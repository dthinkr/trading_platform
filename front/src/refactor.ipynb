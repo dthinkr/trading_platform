{
 "cells": [
  {
   "cell_type": "code",
   "execution_count": 2,
   "metadata": {},
   "outputs": [
    {
     "name": "stdout",
     "output_type": "stream",
     "text": [
      "Checking if file exists: /Users/venvoo/Documents/trading_platform/front/src/BidAskChart.vue\n",
      "Warning: BidAskChart.vue not found at /Users/venvoo/Documents/trading_platform/front/src/BidAskChart.vue\n",
      "Checking if file exists: /Users/venvoo/Documents/trading_platform/front/src/HistoryChart.vue\n",
      "Warning: HistoryChart.vue not found at /Users/venvoo/Documents/trading_platform/front/src/HistoryChart.vue\n",
      "Checking if file exists: /Users/venvoo/Documents/trading_platform/front/src/sellingBlock.vue\n",
      "Warning: sellingBlock.vue not found at /Users/venvoo/Documents/trading_platform/front/src/sellingBlock.vue\n",
      "Checking if file exists: /Users/venvoo/Documents/trading_platform/front/src/myOrders.vue\n",
      "Warning: myOrders.vue not found at /Users/venvoo/Documents/trading_platform/front/src/myOrders.vue\n",
      "Checking if file exists: /Users/venvoo/Documents/trading_platform/front/src/messageBlock.vue\n",
      "Warning: messageBlock.vue not found at /Users/venvoo/Documents/trading_platform/front/src/messageBlock.vue\n",
      "Checking if file exists: /Users/venvoo/Documents/trading_platform/front/src/commandToolBar.vue\n",
      "Warning: commandToolBar.vue not found at /Users/venvoo/Documents/trading_platform/front/src/commandToolBar.vue\n",
      "Checking if file exists: /Users/venvoo/Documents/trading_platform/front/src/staticInfoBlock.vue\n",
      "Warning: staticInfoBlock.vue not found at /Users/venvoo/Documents/trading_platform/front/src/staticInfoBlock.vue\n",
      "Checking if file exists: /Users/venvoo/Documents/trading_platform/front/src/dayOver.vue\n",
      "Warning: dayOver.vue not found at /Users/venvoo/Documents/trading_platform/front/src/dayOver.vue\n",
      "Checking if file exists: /Users/venvoo/Documents/trading_platform/front/src/createTradingSession.vue\n",
      "Warning: createTradingSession.vue not found at /Users/venvoo/Documents/trading_platform/front/src/createTradingSession.vue\n",
      "Checking if file exists: /Users/venvoo/Documents/trading_platform/front/src/TraderLanding.vue\n",
      "Warning: TraderLanding.vue not found at /Users/venvoo/Documents/trading_platform/front/src/TraderLanding.vue\n",
      "File reorganization complete!\n"
     ]
    }
   ],
   "source": [
    "import os\n",
    "import shutil\n",
    "\n",
    "# Define the base directory manually\n",
    "base_dir = '/Users/venvoo/Documents/trading_platform/front/src'\n",
    "\n",
    "# Define the new structure\n",
    "new_structure = {\n",
    "    'components': {\n",
    "        'charts': ['BidAskChart.vue', 'HistoryChart.vue'],\n",
    "        'trading': ['sellingBlock.vue', 'myOrders.vue', 'messageBlock.vue', 'commandToolBar.vue'],\n",
    "        'info': ['staticInfoBlock.vue'],\n",
    "        'layout': ['dayOver.vue']\n",
    "    },\n",
    "    'views': ['createTradingSession.vue', 'TraderLanding.vue']\n",
    "}\n",
    "\n",
    "# Create new directories\n",
    "for dir_name, sub_dirs in new_structure.items():\n",
    "    os.makedirs(os.path.join(base_dir, dir_name), exist_ok=True)\n",
    "    if isinstance(sub_dirs, dict):\n",
    "        for sub_dir in sub_dirs:\n",
    "            os.makedirs(os.path.join(base_dir, dir_name, sub_dir), exist_ok=True)\n",
    "\n",
    "# Move and rename files\n",
    "file_moves = {\n",
    "    'BidAskChart.vue': 'components/charts/BidAskChart.vue',\n",
    "    'HistoryChart.vue': 'components/charts/PriceHistoryChart.vue',\n",
    "    'sellingBlock.vue': 'components/trading/OrderBook.vue',\n",
    "    'myOrders.vue': 'components/trading/MyOrders.vue',\n",
    "    'messageBlock.vue': 'components/trading/TradeHistory.vue',\n",
    "    'commandToolBar.vue': 'components/trading/TradingPanel.vue',\n",
    "    'staticInfoBlock.vue': 'components/info/MarketIndicators.vue',\n",
    "    'dayOver.vue': 'components/layout/DayOverview.vue',\n",
    "    'createTradingSession.vue': 'views/CreateSession.vue',\n",
    "    'TraderLanding.vue': 'views/TraderLanding.vue'\n",
    "}\n",
    "\n",
    "for old_name, new_path in file_moves.items():\n",
    "    old_path = os.path.join(base_dir, old_name)\n",
    "    new_full_path = os.path.join(base_dir, new_path)\n",
    "    \n",
    "    # Print the full paths for debugging\n",
    "    print(f\"Checking if file exists: {old_path}\")\n",
    "    \n",
    "    if os.path.exists(old_path):\n",
    "        shutil.move(old_path, new_full_path)\n",
    "        print(f\"Moved and renamed: {old_name} -> {new_path}\")\n",
    "    else:\n",
    "        print(f\"Warning: {old_name} not found at {old_path}\")\n",
    "\n",
    "print(\"File reorganization complete!\")"
   ]
  }
 ],
 "metadata": {
  "kernelspec": {
   "display_name": "Python 3",
   "language": "python",
   "name": "python3"
  },
  "language_info": {
   "codemirror_mode": {
    "name": "ipython",
    "version": 3
   },
   "file_extension": ".py",
   "mimetype": "text/x-python",
   "name": "python",
   "nbconvert_exporter": "python",
   "pygments_lexer": "ipython3",
   "version": "3.12.5"
  }
 },
 "nbformat": 4,
 "nbformat_minor": 2
}
