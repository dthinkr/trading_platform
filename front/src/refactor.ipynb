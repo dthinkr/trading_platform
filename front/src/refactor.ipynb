{
 "cells": [
  {
   "cell_type": "code",
   "execution_count": 14,
   "metadata": {},
   "outputs": [
    {
     "name": "stdout",
     "output_type": "stream",
     "text": [
      "Moved and renamed: components/messageBlock.vue -> components/trading/OrderHistory.vue\n",
      "Moved and renamed: components/myOrders.vue -> components/trading/ActiveOrders.vue\n",
      "Moved and renamed: components/tradingSystem.vue -> components/TradingDashboard.vue\n",
      "Moved and renamed: components/BidAskChart.vue -> components/charts/BidAskDistribution.vue\n",
      "Moved and renamed: components/commandToolBar.vue -> components/trading/TradingControls.vue\n",
      "Moved and renamed: components/createTradingSession.vue -> components/session/SessionCreator.vue\n",
      "Moved and renamed: components/dayOver.vue -> components/session/SessionSummary.vue\n",
      "Moved and renamed: components/HistoryChart.vue -> components/charts/PriceHistory.vue\n",
      "Moved and renamed: components/sellingBlock.vue -> components/trading/OrderPanel.vue\n",
      "Moved and renamed: components/staticInfoBlock.vue -> components/MarketIndicators.vue\n",
      "Moved and renamed: components/TraderLanding.vue -> components/OnboardingWizard.vue\n",
      "Refactoring complete!\n"
     ]
    }
   ],
   "source": [
    "import os\n",
    "import shutil\n",
    "\n",
    "# Define the source directory\n",
    "src_dir = 'components'\n",
    "\n",
    "# Define the new structure\n",
    "new_structure = {\n",
    "    'charts': ['BidAskChart.vue', 'HistoryChart.vue'],\n",
    "    'trading': ['messageBlock.vue', 'myOrders.vue', 'sellingBlock.vue', 'commandToolBar.vue'],\n",
    "    'session': ['createTradingSession.vue', 'dayOver.vue']\n",
    "}\n",
    "\n",
    "# Define the renaming map\n",
    "rename_map = {\n",
    "    'messageBlock.vue': 'OrderHistory.vue',\n",
    "    'myOrders.vue': 'ActiveOrders.vue',\n",
    "    'tradingSystem.vue': 'TradingDashboard.vue',\n",
    "    'BidAskChart.vue': 'BidAskDistribution.vue',\n",
    "    'commandToolBar.vue': 'TradingControls.vue',\n",
    "    'createTradingSession.vue': 'SessionCreator.vue',\n",
    "    'dayOver.vue': 'SessionSummary.vue',\n",
    "    'HistoryChart.vue': 'PriceHistory.vue',\n",
    "    'sellingBlock.vue': 'OrderPanel.vue',\n",
    "    'staticInfoBlock.vue': 'MarketIndicators.vue',\n",
    "    'TraderLanding.vue': 'OnboardingWizard.vue'\n",
    "}\n",
    "\n",
    "# Create new directories\n",
    "for dir_name in new_structure.keys():\n",
    "    os.makedirs(os.path.join(src_dir, dir_name), exist_ok=True)\n",
    "\n",
    "# Move and rename files\n",
    "for old_name, new_name in rename_map.items():\n",
    "    old_path = os.path.join(src_dir, old_name)\n",
    "    \n",
    "    # Determine the new directory\n",
    "    new_dir = src_dir\n",
    "    for dir_name, files in new_structure.items():\n",
    "        if old_name in files:\n",
    "            new_dir = os.path.join(src_dir, dir_name)\n",
    "            break\n",
    "    \n",
    "    new_path = os.path.join(new_dir, new_name)\n",
    "    \n",
    "    # Move and rename the file\n",
    "    if os.path.exists(old_path):\n",
    "        shutil.move(old_path, new_path)\n",
    "        print(f\"Moved and renamed: {old_path} -> {new_path}\")\n",
    "    else:\n",
    "        print(f\"File not found: {old_path}\")\n",
    "\n",
    "print(\"Refactoring complete!\")"
   ]
  }
 ],
 "metadata": {
  "kernelspec": {
   "display_name": "Python 3",
   "language": "python",
   "name": "python3"
  },
  "language_info": {
   "codemirror_mode": {
    "name": "ipython",
    "version": 3
   },
   "file_extension": ".py",
   "mimetype": "text/x-python",
   "name": "python",
   "nbconvert_exporter": "python",
   "pygments_lexer": "ipython3",
   "version": "3.12.5"
  }
 },
 "nbformat": 4,
 "nbformat_minor": 2
}
