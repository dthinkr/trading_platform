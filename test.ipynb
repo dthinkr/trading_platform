{
 "cells": [
  {
   "cell_type": "markdown",
   "metadata": {},
   "source": [
    "# retrieve run data from mongo"
   ]
  },
  {
   "cell_type": "code",
   "execution_count": 72,
   "metadata": {},
   "outputs": [
    {
     "data": {
      "text/html": [
       "<div><style>\n",
       ".dataframe > thead > tr,\n",
       ".dataframe > tbody > tr {\n",
       "  text-align: right;\n",
       "  white-space: pre-wrap;\n",
       "}\n",
       "</style>\n",
       "<small>shape: (21, 4)</small><table border=\"1\" class=\"dataframe\"><thead><tr><th>_id</th><th>trading_session_id</th><th>content</th><th>timestamp</th></tr><tr><td>object</td><td>str</td><td>struct[10]</td><td>datetime[μs]</td></tr></thead><tbody><tr><td>66562bf3d07ba87713a3c364</td><td>&quot;13a876ca-9eb8-…</td><td>{&quot;Market is open&quot;,&quot;update&quot;,{[],[]},[],[],null,null,null,{null,null,null,null},null}</td><td>2024-05-28 20:09:39.205</td></tr><tr><td>66562bf3d07ba87713a3c365</td><td>&quot;13a876ca-9eb8-…</td><td>{null,&quot;update&quot;,{[],[{2000.0,1.0}]},[{b&quot;g\\xd4\\x20i&amp;\\x89I&lt;\\xa9\\xfb\\xb0\\xdb\\x1151\\xad&quot;,&quot;NOISE_32e40843-ae17-4397-ab28-e1259b8a848d&quot;,-1,1.0,2000.0,2024-05-28 19:09:39.271}],[],null,null,null,{1,2000.0,-1,&quot;NOISE_32e40843-ae17-4397-ab28-e1259b8a848d&quot;},&quot;book is updated&quot;}</td><td>2024-05-28 20:09:39.322</td></tr><tr><td>66562bf3d07ba87713a3c366</td><td>&quot;13a876ca-9eb8-…</td><td>{null,&quot;update&quot;,{[],[{2000.0,1.0}, {2001.0,1.0}]},[{b&quot;g\\xd4\\x20i&amp;\\x89I&lt;\\xa9\\xfb\\xb0\\xdb\\x1151\\xad&quot;,&quot;NOISE_32e40843-ae17-4397-ab28-e1259b8a848d&quot;,-1,1.0,2000.0,2024-05-28 19:09:39.271}, {b&quot;\\x88F\\x97E_\\x91D\\xff\\xb9\\xef\\x02}a\\xd2}\\x8d&quot;,&quot;NOISE_32e40843-ae17-4397-ab28-e1259b8a848d&quot;,-1,1.0,2001.0,2024-05-28 19:09:39.323}],[],null,null,null,{1,2001.0,-1,&quot;NOISE_32e40843-ae17-4397-ab28-e1259b8a848d&quot;},&quot;book is updated&quot;}</td><td>2024-05-28 20:09:39.373</td></tr><tr><td>66562bf5d07ba87713a3c367</td><td>&quot;13a876ca-9eb8-…</td><td>{null,&quot;update&quot;,{[],[{2000.0,1.0}, {2001.0,1.0}, {2002.0,1.0}]},[{b&quot;g\\xd4\\x20i&amp;\\x89I&lt;\\xa9\\xfb\\xb0\\xdb\\x1151\\xad&quot;,&quot;NOISE_32e40843-ae17-4397-ab28-e1259b8a848d&quot;,-1,1.0,2000.0,2024-05-28 19:09:39.271}, {b&quot;\\x88F\\x97E_\\x91D\\xff\\xb9\\xef\\x02}a\\xd2}\\x8d&quot;,&quot;NOISE_32e40843-ae17-4397-ab28-e1259b8a848d&quot;,-1,1.0,2001.0,2024-05-28 19:09:39.323}, {b&quot;K\\xa6\\x99\\xd0\\xfb\\xbaM\\xc0\\xac\\x9bd\\x97\\xaf\\x00Q\\x0b&quot;,&quot;NOISE_32e40843-ae17-4397-ab28-e1259b8a848d&quot;,-1,1.0,2002.0,2024-05-28 19:09:41.576}],[],null,null,null,{1,2002.0,-1,&quot;NOISE_32e40843-ae17-4397-ab28-e1259b8a848d&quot;},&quot;book is updated&quot;}</td><td>2024-05-28 20:09:41.640</td></tr><tr><td>66562bf6d07ba87713a3c368</td><td>&quot;13a876ca-9eb8-…</td><td>{null,&quot;update&quot;,{[],[{2000.0,1.0}, {2001.0,1.0}, … {2003.0,1.0}]},[{b&quot;g\\xd4\\x20i&amp;\\x89I&lt;\\xa9\\xfb\\xb0\\xdb\\x1151\\xad&quot;,&quot;NOISE_32e40843-ae17-4397-ab28-e1259b8a848d&quot;,-1,1.0,2000.0,2024-05-28 19:09:39.271}, {b&quot;\\x88F\\x97E_\\x91D\\xff\\xb9\\xef\\x02}a\\xd2}\\x8d&quot;,&quot;NOISE_32e40843-ae17-4397-ab28-e1259b8a848d&quot;,-1,1.0,2001.0,2024-05-28 19:09:39.323}, … {b&quot;\\x17\\xac\\x0bS\\xacCLT\\xbe\\x8c\\xd4\\x18\\x19\\xca\\xf0\\x08&quot;,&quot;NOISE_32e40843-ae17-4397-ab28-e1259b8a848d&quot;,-1,1.0,2003.0,2024-05-28 19:09:42.903}],[],null,null,null,{1,2003.0,-1,&quot;NOISE_32e40843-ae17-4397-ab28-e1259b8a848d&quot;},&quot;book is updated&quot;}</td><td>2024-05-28 20:09:42.972</td></tr><tr><td>&hellip;</td><td>&hellip;</td><td>&hellip;</td><td>&hellip;</td></tr><tr><td>66562c2fd07ba87713a3c374</td><td>&quot;13a876ca-9eb8-…</td><td>{null,&quot;stop_trading&quot;,{[],[]},[],[{&quot;825b8de0-4840-44bd-bb12-133636d8156c&quot;,&quot;13a876ca-9eb8-4fc5-af33-1c502de08e6a&quot;,&quot;65720809-f496-4b75-b6a2-717bae647595&quot;,&quot;67d42069-2689-493c-a9fb-b0db113531ad&quot;,2024-05-28 20:10:39.340,990.0}, {&quot;0fdc469a-e21f-4a9c-aa88-12e05b41a6ce&quot;,&quot;13a876ca-9eb8-4fc5-af33-1c502de08e6a&quot;,&quot;1b12fd39-ad0d-4740-b299-8bd6b85ad549&quot;,&quot;88469745-5f91-44ff-b9ef-027d61d27d8d&quot;,2024-05-28 20:10:39.345,990.0}, … {&quot;42407312-4385-4997-919b-a8ca726d8c46&quot;,&quot;13a876ca-9eb8-4fc5-af33-1c502de08e6a&quot;,&quot;29ac6b5b-04f5-4ea7-8c1e-1b933653c8ba&quot;,&quot;3d4b45f9-92e5-4d7b-9529-f8fd0da4da28&quot;,2024-05-28 20:10:39.371,1010.0}],null,null,1010.0,{null,null,null,null},null}</td><td>2024-05-28 20:10:39.789</td></tr><tr><td>66562e09204af8443336711f</td><td>&quot;ae080315-f67e-…</td><td>{&quot;Market is open&quot;,&quot;update&quot;,{[],[]},[],[],null,null,null,{null,null,null,null},null}</td><td>2024-05-28 20:18:33.098</td></tr><tr><td>66562e0a204af84433367120</td><td>&quot;ae080315-f67e-…</td><td>{null,&quot;update&quot;,{[{2000.0,1.0}],[]},[{b&quot;k\\x84\\x04\\x93\\xa3QNw\\x93\\x96;q\\x14\\xca\\xd62&quot;,&quot;NOISE_557ff4e7-b944-4d1a-9476-9edaff99f8f1&quot;,1,1.0,2000.0,2024-05-28 19:18:34.223}],[],null,null,null,{1,2000.0,1,&quot;NOISE_557ff4e7-b944-4d1a-9476-9edaff99f8f1&quot;},&quot;book is updated&quot;}</td><td>2024-05-28 20:18:34.280</td></tr><tr><td>66562e0d204af84433367121</td><td>&quot;ae080315-f67e-…</td><td>{null,&quot;update&quot;,{[{2001.0,1.0}],[]},[{b&quot;\\xff76\\xec9\\xd7N\\x8b\\xbb\\x0b\\xdf0\\xd9\\xaf\\x07\\xfb&quot;,&quot;NOISE_557ff4e7-b944-4d1a-9476-9edaff99f8f1&quot;,1,1.0,2001.0,2024-05-28 19:18:37.286}],[{&quot;ad220bc1-02a1-487a-b1cf-d72fcffc58ec&quot;,&quot;ae080315-f67e-433e-bbd8-3409b0c49b35&quot;,&quot;6b840493-a351-4e77-9396-3b7114cad632&quot;,&quot;e138f083-2ae9-4373-ada6-90dc74ebd5d5&quot;,2024-05-28 20:18:36.508,2000.0}],null,null,2000.0,{1,2000.0,-1,&quot;NOISE_557ff4e7-b944-4d1a-9476-9edaff99f8f1&quot;},&quot;book is updated&quot;}</td><td>2024-05-28 20:18:37.407</td></tr><tr><td>66562e0d204af84433367122</td><td>&quot;ae080315-f67e-…</td><td>{null,&quot;update&quot;,{[{2001.0,1.0}],[]},[{b&quot;\\xff76\\xec9\\xd7N\\x8b\\xbb\\x0b\\xdf0\\xd9\\xaf\\x07\\xfb&quot;,&quot;NOISE_557ff4e7-b944-4d1a-9476-9edaff99f8f1&quot;,1,1.0,2001.0,2024-05-28 19:18:37.286}],[{&quot;ad220bc1-02a1-487a-b1cf-d72fcffc58ec&quot;,&quot;ae080315-f67e-433e-bbd8-3409b0c49b35&quot;,&quot;6b840493-a351-4e77-9396-3b7114cad632&quot;,&quot;e138f083-2ae9-4373-ada6-90dc74ebd5d5&quot;,2024-05-28 20:18:36.508,2000.0}],null,null,2000.0,{1,2001.0,1,&quot;NOISE_557ff4e7-b944-4d1a-9476-9edaff99f8f1&quot;},&quot;book is updated&quot;}</td><td>2024-05-28 20:18:37.467</td></tr></tbody></table></div>"
      ],
      "text/plain": [
       "shape: (21, 4)\n",
       "┌───────────────────────────┬───────────────────────────┬───────────────────────────┬──────────────┐\n",
       "│ _id                       ┆ trading_session_id        ┆ content                   ┆ timestamp    │\n",
       "│ ---                       ┆ ---                       ┆ ---                       ┆ ---          │\n",
       "│ object                    ┆ str                       ┆ struct[10]                ┆ datetime[μs] │\n",
       "╞═══════════════════════════╪═══════════════════════════╪═══════════════════════════╪══════════════╡\n",
       "│ 66562bf3d07ba87713a3c364  ┆ 13a876ca-9eb8-4fc5-af33-1 ┆ {\"Market is               ┆ 2024-05-28   │\n",
       "│                           ┆ c502de0…                  ┆ open\",\"update\",{[],[…     ┆ 20:09:39.205 │\n",
       "│ 66562bf3d07ba87713a3c365  ┆ 13a876ca-9eb8-4fc5-af33-1 ┆ {null,\"update\",{[],[{2000 ┆ 2024-05-28   │\n",
       "│                           ┆ c502de0…                  ┆ .0,1.0}…                  ┆ 20:09:39.322 │\n",
       "│ 66562bf3d07ba87713a3c366  ┆ 13a876ca-9eb8-4fc5-af33-1 ┆ {null,\"update\",{[],[{2000 ┆ 2024-05-28   │\n",
       "│                           ┆ c502de0…                  ┆ .0,1.0}…                  ┆ 20:09:39.373 │\n",
       "│ 66562bf5d07ba87713a3c367  ┆ 13a876ca-9eb8-4fc5-af33-1 ┆ {null,\"update\",{[],[{2000 ┆ 2024-05-28   │\n",
       "│                           ┆ c502de0…                  ┆ .0,1.0}…                  ┆ 20:09:41.640 │\n",
       "│ 66562bf6d07ba87713a3c368  ┆ 13a876ca-9eb8-4fc5-af33-1 ┆ {null,\"update\",{[],[{2000 ┆ 2024-05-28   │\n",
       "│                           ┆ c502de0…                  ┆ .0,1.0}…                  ┆ 20:09:42.972 │\n",
       "│ …                         ┆ …                         ┆ …                         ┆ …            │\n",
       "│ 66562c2fd07ba87713a3c374  ┆ 13a876ca-9eb8-4fc5-af33-1 ┆ {null,\"stop_trading\",{[], ┆ 2024-05-28   │\n",
       "│                           ┆ c502de0…                  ┆ []},[],…                  ┆ 20:10:39.789 │\n",
       "│ 66562e09204af8443336711f  ┆ ae080315-f67e-433e-bbd8-3 ┆ {\"Market is               ┆ 2024-05-28   │\n",
       "│                           ┆ 409b0c4…                  ┆ open\",\"update\",{[],[…     ┆ 20:18:33.098 │\n",
       "│ 66562e0a204af84433367120  ┆ ae080315-f67e-433e-bbd8-3 ┆ {null,\"update\",{[{2000.0, ┆ 2024-05-28   │\n",
       "│                           ┆ 409b0c4…                  ┆ 1.0}],[…                  ┆ 20:18:34.280 │\n",
       "│ 66562e0d204af84433367121  ┆ ae080315-f67e-433e-bbd8-3 ┆ {null,\"update\",{[{2001.0, ┆ 2024-05-28   │\n",
       "│                           ┆ 409b0c4…                  ┆ 1.0}],[…                  ┆ 20:18:37.407 │\n",
       "│ 66562e0d204af84433367122  ┆ ae080315-f67e-433e-bbd8-3 ┆ {null,\"update\",{[{2001.0, ┆ 2024-05-28   │\n",
       "│                           ┆ 409b0c4…                  ┆ 1.0}],[…                  ┆ 20:18:37.467 │\n",
       "└───────────────────────────┴───────────────────────────┴───────────────────────────┴──────────────┘"
      ]
     },
     "execution_count": 72,
     "metadata": {},
     "output_type": "execute_result"
    }
   ],
   "source": [
    "from pymongo import MongoClient\n",
    "import polars as pl\n",
    "\n",
    "client = MongoClient(\"localhost\", 27017)\n",
    "db = client[\"trader\"]\n",
    "collection = db[\"message\"]\n",
    "documents = list(collection.find({}))  # Retrieve all documents\n",
    "run_data = pl.DataFrame(documents)\n",
    "run_data"
   ]
  },
  {
   "cell_type": "code",
   "execution_count": 54,
   "metadata": {},
   "outputs": [
    {
     "data": {
      "text/plain": [
       "{'content': None,\n",
       " 'type': 'update',\n",
       " 'order_book': {'bids': [], 'asks': [{'x': 2000.0, 'y': 1.0}]},\n",
       " 'active_orders': [{'id': b'g\\xd4 i&\\x89I<\\xa9\\xfb\\xb0\\xdb\\x1151\\xad',\n",
       "   'trader_id': 'NOISE_32e40843-ae17-4397-ab28-e1259b8a848d',\n",
       "   'order_type': -1,\n",
       "   'amount': 1.0,\n",
       "   'price': 2000.0,\n",
       "   'timestamp': datetime.datetime(2024, 5, 28, 19, 9, 39, 271000)}],\n",
       " 'history': [],\n",
       " 'spread': None,\n",
       " 'midpoint': None,\n",
       " 'transaction_price': None,\n",
       " 'incoming_message': {'amount': 1,\n",
       "  'price': 2000.0,\n",
       "  'order_type': -1,\n",
       "  'trader_id': 'NOISE_32e40843-ae17-4397-ab28-e1259b8a848d'},\n",
       " 'text': 'book is updated'}"
      ]
     },
     "execution_count": 54,
     "metadata": {},
     "output_type": "execute_result"
    }
   ],
   "source": [
    "run_data['content'][1]"
   ]
  },
  {
   "cell_type": "code",
   "execution_count": 49,
   "metadata": {},
   "outputs": [
    {
     "data": {
      "text/plain": [
       "'13a876ca-9eb8-4fc5-af33-1c502de08e6a'"
      ]
     },
     "execution_count": 49,
     "metadata": {},
     "output_type": "execute_result"
    }
   ],
   "source": []
  },
  {
   "cell_type": "code",
   "execution_count": 47,
   "metadata": {},
   "outputs": [
    {
     "name": "stdout",
     "output_type": "stream",
     "text": [
      "DuckDB tables deleted successfully.\n",
      "MongoDB collection deleted successfully.\n"
     ]
    }
   ],
   "source": [
    "from analysis.utilities import delete_all_tables\n",
    "\n",
    "delete_all_tables()"
   ]
  },
  {
   "cell_type": "code",
   "execution_count": 74,
   "metadata": {},
   "outputs": [
    {
     "name": "stdout",
     "output_type": "stream",
     "text": [
      "shape: (4, 3)\n",
      "┌─────────────────────┬───────────────────────────────────┬─────────────────────────┐\n",
      "│ order_book          ┆ incoming                          ┆ timestamp               │\n",
      "│ ---                 ┆ ---                               ┆ ---                     │\n",
      "│ struct[2]           ┆ struct[4]                         ┆ datetime[μs]            │\n",
      "╞═════════════════════╪═══════════════════════════════════╪═════════════════════════╡\n",
      "│ {[],[]}             ┆ {null,null,null,null}             ┆ 2024-05-28 20:18:33.098 │\n",
      "│ {[{2000.0,1.0}],[]} ┆ {1,2000.0,1,\"NOISE_557ff4e7-b944… ┆ 2024-05-28 20:18:34.280 │\n",
      "│ {[{2001.0,1.0}],[]} ┆ {1,2000.0,-1,\"NOISE_557ff4e7-b94… ┆ 2024-05-28 20:18:37.407 │\n",
      "│ {[{2001.0,1.0}],[]} ┆ {1,2001.0,1,\"NOISE_557ff4e7-b944… ┆ 2024-05-28 20:18:37.467 │\n",
      "└─────────────────────┴───────────────────────────────────┴─────────────────────────┘\n"
     ]
    }
   ],
   "source": [
    "import polars as pl\n",
    "\n",
    "# Filter rows where trading_session_id is '71062ff9-b112-4253-bccb-fc054640d17a'\n",
    "filtered_data = run_data.filter(pl.col(\"trading_session_id\") == run_data['trading_session_id'][-1])\n",
    "\n",
    "# Preprocess data in Python\n",
    "preprocessed_data = []\n",
    "for row in filtered_data.to_dicts():\n",
    "    content = row['content']\n",
    "    order_book = content.get('order_book', None)\n",
    "    incoming = content.get('incoming_message', None)\n",
    "    timestamp = row['timestamp']  # Correctly access timestamp from row\n",
    "    \n",
    "    preprocessed_data.append({\n",
    "        'order_book': order_book,\n",
    "        'incoming': incoming,\n",
    "        'timestamp': timestamp  # Include timestamp in the dictionary\n",
    "    })\n",
    "\n",
    "# Create a new DataFrame from preprocessed data\n",
    "new_order_books = pl.DataFrame(preprocessed_data)\n",
    "\n",
    "# Sort by 'timestamp', handling None values by sorting them last\n",
    "new_order_books = new_order_books.sort(\"timestamp\", nulls_last=True)\n",
    "\n",
    "# Display the DataFrame\n",
    "print(new_order_books)"
   ]
  },
  {
   "cell_type": "code",
   "execution_count": 71,
   "metadata": {},
   "outputs": [
    {
     "data": {
      "text/plain": [
       "1.0"
      ]
     },
     "execution_count": 71,
     "metadata": {},
     "output_type": "execute_result"
    }
   ],
   "source": [
    "from main_platform.utils import convert_to_book_format_new\n",
    "dt = convert_to_book_format_new(new_order_books['order_book'][2])\n",
    "\n",
    "dt[5]"
   ]
  },
  {
   "cell_type": "code",
   "execution_count": 51,
   "metadata": {},
   "outputs": [
    {
     "data": {
      "text/html": [
       "<div><style>\n",
       ".dataframe > thead > tr,\n",
       ".dataframe > tbody > tr {\n",
       "  text-align: right;\n",
       "  white-space: pre-wrap;\n",
       "}\n",
       "</style>\n",
       "<small>shape: (10, 3)</small><table border=\"1\" class=\"dataframe\"><thead><tr><th>order_book</th><th>incoming</th><th>timestamp</th></tr><tr><td>struct[2]</td><td>struct[4]</td><td>datetime[μs]</td></tr></thead><tbody><tr><td>{[],[]}</td><td>{null,null,null,null}</td><td>2024-05-28 20:09:39.205</td></tr><tr><td>{[],[{2000.0,1.0}]}</td><td>{1,2000.0,-1,&quot;NOISE_32e40843-ae17-4397-ab28-e1259b8a848d&quot;}</td><td>2024-05-28 20:09:39.322</td></tr><tr><td>{[],[{2000.0,1.0}, {2001.0,1.0}]}</td><td>{1,2001.0,-1,&quot;NOISE_32e40843-ae17-4397-ab28-e1259b8a848d&quot;}</td><td>2024-05-28 20:09:39.373</td></tr><tr><td>{[],[{2000.0,1.0}, {2001.0,1.0}, {2002.0,1.0}]}</td><td>{1,2002.0,-1,&quot;NOISE_32e40843-ae17-4397-ab28-e1259b8a848d&quot;}</td><td>2024-05-28 20:09:41.640</td></tr><tr><td>{[],[{2000.0,1.0}, {2001.0,1.0}, … {2003.0,1.0}]}</td><td>{1,2003.0,-1,&quot;NOISE_32e40843-ae17-4397-ab28-e1259b8a848d&quot;}</td><td>2024-05-28 20:09:42.972</td></tr><tr><td>{[],[{2000.0,1.0}, {2001.0,1.0}, … {2004.0,1.0}]}</td><td>{1,2004.0,-1,&quot;NOISE_32e40843-ae17-4397-ab28-e1259b8a848d&quot;}</td><td>2024-05-28 20:09:44.144</td></tr><tr><td>{[],[{2000.0,1.0}, {2001.0,1.0}, … {2005.0,1.0}]}</td><td>{1,2005.0,-1,&quot;NOISE_32e40843-ae17-4397-ab28-e1259b8a848d&quot;}</td><td>2024-05-28 20:09:44.200</td></tr><tr><td>{[],[{2000.0,1.0}, {2001.0,1.0}, … {2006.0,1.0}]}</td><td>{1,2006.0,-1,&quot;NOISE_32e40843-ae17-4397-ab28-e1259b8a848d&quot;}</td><td>2024-05-28 20:09:44.263</td></tr><tr><td>{[],[{2000.0,1.0}, {2001.0,1.0}, … {2007.0,1.0}]}</td><td>{1,2007.0,-1,&quot;NOISE_32e40843-ae17-4397-ab28-e1259b8a848d&quot;}</td><td>2024-05-28 20:09:46.463</td></tr><tr><td>{[{1999.0,1.0}],[{2000.0,1.0}, {2001.0,1.0}, … {2007.0,1.0}]}</td><td>{1,1999.0,1,&quot;INFORMED_db877ee6-e216-4f6c-b40a-b0de0ace8926&quot;}</td><td>2024-05-28 20:09:47.354</td></tr></tbody></table></div>"
      ],
      "text/plain": [
       "shape: (10, 3)\n",
       "┌───────────────────────────────────┬───────────────────────────────────┬─────────────────────────┐\n",
       "│ order_book                        ┆ incoming                          ┆ timestamp               │\n",
       "│ ---                               ┆ ---                               ┆ ---                     │\n",
       "│ struct[2]                         ┆ struct[4]                         ┆ datetime[μs]            │\n",
       "╞═══════════════════════════════════╪═══════════════════════════════════╪═════════════════════════╡\n",
       "│ {[],[]}                           ┆ {null,null,null,null}             ┆ 2024-05-28 20:09:39.205 │\n",
       "│ {[],[{2000.0,1.0}]}               ┆ {1,2000.0,-1,\"NOISE_32e40843-ae1… ┆ 2024-05-28 20:09:39.322 │\n",
       "│ {[],[{2000.0,1.0}, {2001.0,1.0}]… ┆ {1,2001.0,-1,\"NOISE_32e40843-ae1… ┆ 2024-05-28 20:09:39.373 │\n",
       "│ {[],[{2000.0,1.0}, {2001.0,1.0},… ┆ {1,2002.0,-1,\"NOISE_32e40843-ae1… ┆ 2024-05-28 20:09:41.640 │\n",
       "│ {[],[{2000.0,1.0}, {2001.0,1.0},… ┆ {1,2003.0,-1,\"NOISE_32e40843-ae1… ┆ 2024-05-28 20:09:42.972 │\n",
       "│ {[],[{2000.0,1.0}, {2001.0,1.0},… ┆ {1,2004.0,-1,\"NOISE_32e40843-ae1… ┆ 2024-05-28 20:09:44.144 │\n",
       "│ {[],[{2000.0,1.0}, {2001.0,1.0},… ┆ {1,2005.0,-1,\"NOISE_32e40843-ae1… ┆ 2024-05-28 20:09:44.200 │\n",
       "│ {[],[{2000.0,1.0}, {2001.0,1.0},… ┆ {1,2006.0,-1,\"NOISE_32e40843-ae1… ┆ 2024-05-28 20:09:44.263 │\n",
       "│ {[],[{2000.0,1.0}, {2001.0,1.0},… ┆ {1,2007.0,-1,\"NOISE_32e40843-ae1… ┆ 2024-05-28 20:09:46.463 │\n",
       "│ {[{1999.0,1.0}],[{2000.0,1.0}, {… ┆ {1,1999.0,1,\"INFORMED_db877ee6-e… ┆ 2024-05-28 20:09:47.354 │\n",
       "└───────────────────────────────────┴───────────────────────────────────┴─────────────────────────┘"
      ]
     },
     "execution_count": 51,
     "metadata": {},
     "output_type": "execute_result"
    }
   ],
   "source": []
  },
  {
   "cell_type": "code",
   "execution_count": 21,
   "metadata": {},
   "outputs": [],
   "source": [
    "timestamp"
   ]
  },
  {
   "cell_type": "code",
   "execution_count": 4,
   "metadata": {},
   "outputs": [
    {
     "data": {
      "text/plain": [
       "{'bids': [], 'asks': [{'x': 2008.0, 'y': 1.0}]}"
      ]
     },
     "execution_count": 4,
     "metadata": {},
     "output_type": "execute_result"
    }
   ],
   "source": [
    "run_data['content'][1]['order_book']"
   ]
  }
 ],
 "metadata": {
  "kernelspec": {
   "display_name": "Python 3",
   "language": "python",
   "name": "python3"
  },
  "language_info": {
   "codemirror_mode": {
    "name": "ipython",
    "version": 3
   },
   "file_extension": ".py",
   "mimetype": "text/x-python",
   "name": "python",
   "nbconvert_exporter": "python",
   "pygments_lexer": "ipython3",
   "version": "3.11.9"
  }
 },
 "nbformat": 4,
 "nbformat_minor": 2
}
