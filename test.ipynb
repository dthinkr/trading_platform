{
 "cells": [
  {
   "cell_type": "markdown",
   "metadata": {},
   "source": [
    "# retrieve run data from mongo"
   ]
  },
  {
   "cell_type": "code",
   "execution_count": 29,
   "metadata": {},
   "outputs": [
    {
     "name": "stdout",
     "output_type": "stream",
     "text": [
      "shape: (7, 5)\n",
      "┌────────────┬──────────────┬─────────────────────┬──────────────┬─────────────────────────┐\n",
      "│ row_number ┆ message_type ┆ order_book          ┆ incoming     ┆ timestamp               │\n",
      "│ ---        ┆ ---          ┆ ---                 ┆ ---          ┆ ---                     │\n",
      "│ u32        ┆ str          ┆ struct[2]           ┆ struct[3]    ┆ datetime[μs]            │\n",
      "╞════════════╪══════════════╪═════════════════════╪══════════════╪═════════════════════════╡\n",
      "│ 0          ┆ ADD_ORDER    ┆ {[{2000.0,1.0}],[]} ┆ {1.0,2000,1} ┆ 2024-07-08 23:34:40.207 │\n",
      "│ 1          ┆ ADD_ORDER    ┆ {[{2000.0,2.0}],[]} ┆ {1.0,2000,1} ┆ 2024-07-08 23:34:40.299 │\n",
      "│ 2          ┆ ADD_ORDER    ┆ {[{2000.0,2.0},     ┆ {1.0,1999,1} ┆ 2024-07-08 23:34:40.365 │\n",
      "│            ┆              ┆ {1999.0,1.0}],…     ┆              ┆                         │\n",
      "│ 3          ┆ ADD_ORDER    ┆ {[{2000.0,2.0},     ┆ {1.0,1999,1} ┆ 2024-07-08 23:34:40.468 │\n",
      "│            ┆              ┆ {1999.0,2.0}],…     ┆              ┆                         │\n",
      "│ 4          ┆ ADD_ORDER    ┆ {[{2000.0,3.0},     ┆ {1.0,2000,1} ┆ 2024-07-08 23:34:40.553 │\n",
      "│            ┆              ┆ {1999.0,2.0}],…     ┆              ┆                         │\n",
      "│ 5          ┆ ADD_ORDER    ┆ {[{2000.0,4.0},     ┆ {1.0,2000,1} ┆ 2024-07-08 23:34:40.628 │\n",
      "│            ┆              ┆ {1999.0,2.0}],…     ┆              ┆                         │\n",
      "│ 6          ┆ ADD_ORDER    ┆ {[{2000.0,4.0},     ┆ {1.0,1998,1} ┆ 2024-07-08 23:34:40.741 │\n",
      "│            ┆              ┆ {1999.0,2.0}, …     ┆              ┆                         │\n",
      "└────────────┴──────────────┴─────────────────────┴──────────────┴─────────────────────────┘\n"
     ]
    }
   ],
   "source": [
    "from pymongo import MongoClient\n",
    "import polars as pl\n",
    "\n",
    "client = MongoClient(\"localhost\", 27017)\n",
    "db = client[\"trader\"]\n",
    "documents = list(db[\"message\"].find({}))\n",
    "run_data = pl.DataFrame(documents)\n",
    "\n",
    "filtered_data = run_data.filter(pl.col(\"trading_session_id\") == run_data['trading_session_id'][-1])\n",
    "\n",
    "preprocessed_data = [{\n",
    "    'message_type': row['content']['type'],\n",
    "    'order_book': row['content'].get('order_book'),\n",
    "    'incoming': {k: v for k, v in row['content'].get('incoming_message', {}).items() if k != 'trader_id'},\n",
    "    # 'trader_id': row['content']['incoming_message'].get('trader_id'),\n",
    "    \n",
    "    'timestamp': row['timestamp']\n",
    "} for row in filtered_data.to_dicts()]\n",
    "\n",
    "new_order_books = pl.DataFrame(preprocessed_data).sort(\"timestamp\", nulls_last=True).with_row_index(\"row_number\")\n",
    "print(new_order_books.head(10))"
   ]
  },
  {
   "cell_type": "code",
   "execution_count": 3,
   "metadata": {},
   "outputs": [
    {
     "name": "stdout",
     "output_type": "stream",
     "text": [
      "Total documents in collection: 15871\n",
      "Sample document keys: dict_keys(['_id', 'trading_session_id', 'content', 'timestamp'])\n",
      "Sample trading_session_id: 715dadb3-3a1c-4de9-bb7c-e8088bd0988d\n",
      "Found 0 documents for session ID: 92b3dbc3-da86-4740-9dfc-382d200c3e95\n",
      "No documents found for the session ID: 92b3dbc3-da86-4740-9dfc-382d200c3e95\n",
      "\n",
      "Found 60 unique trading session IDs\n",
      "First 5 session IDs: ['05fc09c2-da4b-452f-ad6f-3ceab1b46522', '0bb5f63e-37c4-4f21-84b0-83d7544d175c', '0e33b375-3cba-4f23-8431-9ce366a64c8f', '14d9ccc8-fe05-4dd4-bcff-7be3e28590b5', '16178e8b-4f06-4ea6-81c0-95c81d0abb0b']\n",
      "Is '92b3dbc3-da86-4740-9dfc-382d200c3e95' in the list of unique session IDs? False\n"
     ]
    }
   ],
   "source": [
    "from pymongo import MongoClient\n",
    "import polars as pl\n",
    "\n",
    "client = MongoClient(\"localhost\", 27017)\n",
    "db = client[\"trader\"]\n",
    "collection = db[\"message\"]\n",
    "\n",
    "# First, let's check the total number of documents and print a sample document\n",
    "total_documents = collection.count_documents({})\n",
    "print(f\"Total documents in collection: {total_documents}\")\n",
    "\n",
    "sample_doc = collection.find_one()\n",
    "if sample_doc:\n",
    "    print(\"Sample document keys:\", sample_doc.keys())\n",
    "    if 'trading_session_id' in sample_doc:\n",
    "        print(\"Sample trading_session_id:\", sample_doc['trading_session_id'])\n",
    "    else:\n",
    "        print(\"Warning: 'trading_session_id' not found in sample document\")\n",
    "else:\n",
    "    print(\"No documents found in the collection\")\n",
    "\n",
    "# Now, let's check for the specific session ID\n",
    "specific_session_id = '92b3dbc3-da86-4740-9dfc-382d200c3e95'\n",
    "session_documents = list(collection.find({'trading_session_id': specific_session_id}))\n",
    "print(f\"Found {len(session_documents)} documents for session ID: {specific_session_id}\")\n",
    "\n",
    "if session_documents:\n",
    "    run_data = pl.DataFrame(session_documents)\n",
    "    print(\"Columns in run_data:\", run_data.columns)\n",
    "    print(\"Shape of run_data:\", run_data.shape)\n",
    "    print(\"First few rows of run_data:\")\n",
    "    print(run_data.head())\n",
    "\n",
    "    # Your existing preprocessing code\n",
    "    preprocessed_data = [{\n",
    "        'message_type': row['content']['type'],\n",
    "        'order_book': row['content'].get('order_book'),\n",
    "        'incoming': {k: v for k, v in row['content'].get('incoming_message', {}).items() if k != 'trader_id'},\n",
    "        'timestamp': row['timestamp']\n",
    "    } for row in run_data.to_dicts()]\n",
    "\n",
    "    new_order_books = pl.DataFrame(preprocessed_data).sort(\"timestamp\", nulls_last=True).with_row_index(\"row_number\")\n",
    "    print(\"Preprocessed data:\")\n",
    "    print(new_order_books.head(10))\n",
    "else:\n",
    "    print(f\"No documents found for the session ID: {specific_session_id}\")\n",
    "\n",
    "# Let's also check all unique session IDs\n",
    "unique_session_ids = collection.distinct('trading_session_id')\n",
    "print(f\"\\nFound {len(unique_session_ids)} unique trading session IDs\")\n",
    "print(\"First 5 session IDs:\", unique_session_ids[:5])\n",
    "print(f\"Is '{specific_session_id}' in the list of unique session IDs? {specific_session_id in unique_session_ids}\")"
   ]
  },
  {
   "cell_type": "code",
   "execution_count": 130,
   "metadata": {},
   "outputs": [
    {
     "data": {
      "text/plain": [
       "{'text': 'add_order update processed',\n",
       " 'type': 'ADD_ORDER',\n",
       " 'current_time': '2024-07-08T16:05:33.451911+00:00',\n",
       " 'start_time': '2024-07-08T16:05:32.955265+00:00',\n",
       " 'duration': 1,\n",
       " 'order_book': {'bids': [{'x': 1998.0, 'y': 1.0}], 'asks': []},\n",
       " 'active_orders': [{'id': b'+\\xbe\\xbf\\x07\\xdeBA\\xd1\\x97\\x18\\xc8\\xaa9\\xb2\\x0e\\xd3',\n",
       "   'trader_id': 'INITIAL_ORDER_BOOK_d135508e-8776-41af-8b7f-d00704df76d4',\n",
       "   'order_type': 1,\n",
       "   'amount': 1.0,\n",
       "   'price': 1998.0,\n",
       "   'timestamp': datetime.datetime(2024, 7, 8, 16, 5, 33, 451000)}],\n",
       " 'history': [],\n",
       " 'spread': None,\n",
       " 'midpoint': None,\n",
       " 'transaction_price': None,\n",
       " 'incoming_message': {'amount': 1.0,\n",
       "  'price': 1998,\n",
       "  'order_type': 1,\n",
       "  'trader_id': 'INITIAL_ORDER_BOOK_d135508e-8776-41af-8b7f-d00704df76d4'},\n",
       " 'test_field': 'test'}"
      ]
     },
     "execution_count": 130,
     "metadata": {},
     "output_type": "execute_result"
    }
   ],
   "source": [
    "run_data['content'][0]"
   ]
  },
  {
   "cell_type": "code",
   "execution_count": 21,
   "metadata": {},
   "outputs": [
    {
     "data": {
      "text/html": [
       "<div><style>\n",
       ".dataframe > thead > tr,\n",
       ".dataframe > tbody > tr {\n",
       "  text-align: right;\n",
       "  white-space: pre-wrap;\n",
       "}\n",
       "</style>\n",
       "<small>shape: (20, 5)</small><table border=\"1\" class=\"dataframe\"><thead><tr><th>row_number</th><th>message_type</th><th>order_book</th><th>incoming</th><th>timestamp</th></tr><tr><td>u32</td><td>str</td><td>struct[2]</td><td>struct[3]</td><td>datetime[μs]</td></tr></thead><tbody><tr><td>264</td><td>&quot;ADD_ORDER&quot;</td><td>{[{1999.0,15.0}, {1998.0,16.0}, … {1995.0,2.0}],[{2000.0,13.0}, {2001.0,21.0}, … {2004.0,7.0}]}</td><td>{1.0,1999,1}</td><td>2024-07-08 17:07:45.129</td></tr><tr><td>265</td><td>&quot;ADD_ORDER&quot;</td><td>{[{1999.0,15.0}, {1998.0,16.0}, … {1995.0,2.0}],[{2000.0,13.0}, {2001.0,22.0}, … {2004.0,7.0}]}</td><td>{1.0,2001,-1}</td><td>2024-07-08 17:07:45.541</td></tr><tr><td>266</td><td>&quot;ADD_ORDER&quot;</td><td>{[{1999.0,15.0}, {1998.0,16.0}, … {1995.0,2.0}],[{2000.0,13.0}, {2001.0,22.0}, … {2004.0,7.0}]}</td><td>{1.0,2002,-1}</td><td>2024-07-08 17:07:45.860</td></tr><tr><td>267</td><td>&quot;ADD_ORDER&quot;</td><td>{[{1999.0,11.0}, {1998.0,8.0}, … {1996.0,12.0}],[{2000.0,13.0}, {2001.0,11.0}, … {2003.0,19.0}]}</td><td>{1.0,1997,1}</td><td>2024-07-08 17:07:46.406</td></tr><tr><td>268</td><td>&quot;ADD_ORDER&quot;</td><td>{[{1999.0,10.0}, {1998.0,7.0}, … {1996.0,12.0}],[{2000.0,13.0}, {2001.0,11.0}, … {2003.0,19.0}]}</td><td>{1.0,1999,-1}</td><td>2024-07-08 17:07:46.677</td></tr><tr><td>&hellip;</td><td>&hellip;</td><td>&hellip;</td><td>&hellip;</td><td>&hellip;</td></tr><tr><td>279</td><td>&quot;ADD_ORDER&quot;</td><td>{[{1999.0,5.0}, {1998.0,5.0}, … {1996.0,4.0}],[{2000.0,9.0}, {2001.0,4.0}, … {2003.0,4.0}]}</td><td>{1.0,1998,1}</td><td>2024-07-08 17:07:49.566</td></tr><tr><td>280</td><td>&quot;BOOK_UPDATED&quot;</td><td>{[{1999.0,2.0}, {1998.0,2.0}, {1997.0,3.0}],[{2000.0,3.0}, {2001.0,2.0}, {2002.0,1.0}]}</td><td>{null,null,null}</td><td>2024-07-08 17:07:50.040</td></tr><tr><td>281</td><td>&quot;ADD_ORDER&quot;</td><td>{[{1999.0,2.0}, {1998.0,2.0}, … {1996.0,1.0}],[{2000.0,3.0}, {2001.0,2.0}, {2002.0,1.0}]}</td><td>{1.0,1996,1}</td><td>2024-07-08 17:07:50.187</td></tr><tr><td>282</td><td>&quot;stop_trading&quot;</td><td>{[{1999.0,2.0}, {1998.0,2.0}, … {1996.0,1.0}],[{2000.0,3.0}, {2001.0,2.0}, {2002.0,1.0}]}</td><td>{null,null,null}</td><td>2024-07-08 17:07:50.326</td></tr><tr><td>283</td><td>&quot;closure&quot;</td><td>{[{1999.0,2.0}, {1998.0,2.0}, … {1996.0,1.0}],[{2000.0,3.0}, {2001.0,2.0}, {2002.0,1.0}]}</td><td>{null,null,null}</td><td>2024-07-08 17:07:51.537</td></tr></tbody></table></div>"
      ],
      "text/plain": [
       "shape: (20, 5)\n",
       "┌────────────┬──────────────┬──────────────────┬──────────────────┬─────────────────────────┐\n",
       "│ row_number ┆ message_type ┆ order_book       ┆ incoming         ┆ timestamp               │\n",
       "│ ---        ┆ ---          ┆ ---              ┆ ---              ┆ ---                     │\n",
       "│ u32        ┆ str          ┆ struct[2]        ┆ struct[3]        ┆ datetime[μs]            │\n",
       "╞════════════╪══════════════╪══════════════════╪══════════════════╪═════════════════════════╡\n",
       "│ 264        ┆ ADD_ORDER    ┆ {[{1999.0,15.0}, ┆ {1.0,1999,1}     ┆ 2024-07-08 17:07:45.129 │\n",
       "│            ┆              ┆ {1998.0,16.0}…   ┆                  ┆                         │\n",
       "│ 265        ┆ ADD_ORDER    ┆ {[{1999.0,15.0}, ┆ {1.0,2001,-1}    ┆ 2024-07-08 17:07:45.541 │\n",
       "│            ┆              ┆ {1998.0,16.0}…   ┆                  ┆                         │\n",
       "│ 266        ┆ ADD_ORDER    ┆ {[{1999.0,15.0}, ┆ {1.0,2002,-1}    ┆ 2024-07-08 17:07:45.860 │\n",
       "│            ┆              ┆ {1998.0,16.0}…   ┆                  ┆                         │\n",
       "│ 267        ┆ ADD_ORDER    ┆ {[{1999.0,11.0}, ┆ {1.0,1997,1}     ┆ 2024-07-08 17:07:46.406 │\n",
       "│            ┆              ┆ {1998.0,8.0},…   ┆                  ┆                         │\n",
       "│ 268        ┆ ADD_ORDER    ┆ {[{1999.0,10.0}, ┆ {1.0,1999,-1}    ┆ 2024-07-08 17:07:46.677 │\n",
       "│            ┆              ┆ {1998.0,7.0},…   ┆                  ┆                         │\n",
       "│ …          ┆ …            ┆ …                ┆ …                ┆ …                       │\n",
       "│ 279        ┆ ADD_ORDER    ┆ {[{1999.0,5.0},  ┆ {1.0,1998,1}     ┆ 2024-07-08 17:07:49.566 │\n",
       "│            ┆              ┆ {1998.0,5.0}, …  ┆                  ┆                         │\n",
       "│ 280        ┆ BOOK_UPDATED ┆ {[{1999.0,2.0},  ┆ {null,null,null} ┆ 2024-07-08 17:07:50.040 │\n",
       "│            ┆              ┆ {1998.0,2.0}, …  ┆                  ┆                         │\n",
       "│ 281        ┆ ADD_ORDER    ┆ {[{1999.0,2.0},  ┆ {1.0,1996,1}     ┆ 2024-07-08 17:07:50.187 │\n",
       "│            ┆              ┆ {1998.0,2.0}, …  ┆                  ┆                         │\n",
       "│ 282        ┆ stop_trading ┆ {[{1999.0,2.0},  ┆ {null,null,null} ┆ 2024-07-08 17:07:50.326 │\n",
       "│            ┆              ┆ {1998.0,2.0}, …  ┆                  ┆                         │\n",
       "│ 283        ┆ closure      ┆ {[{1999.0,2.0},  ┆ {null,null,null} ┆ 2024-07-08 17:07:51.537 │\n",
       "│            ┆              ┆ {1998.0,2.0}, …  ┆                  ┆                         │\n",
       "└────────────┴──────────────┴──────────────────┴──────────────────┴─────────────────────────┘"
      ]
     },
     "execution_count": 21,
     "metadata": {},
     "output_type": "execute_result"
    }
   ],
   "source": [
    "new_order_books.tail(20)"
   ]
  },
  {
   "cell_type": "code",
   "execution_count": 143,
   "metadata": {},
   "outputs": [
    {
     "data": {
      "text/plain": [
       "0      1.000000\n",
       "1      1.000000\n",
       "2      1.000000\n",
       "3      1.000000\n",
       "4      1.000000\n",
       "         ...   \n",
       "288   -0.783784\n",
       "289   -0.736842\n",
       "290   -0.703704\n",
       "291   -0.555556\n",
       "292    0.142857\n",
       "Name: order_imbalance, Length: 293, dtype: float64"
      ]
     },
     "execution_count": 143,
     "metadata": {},
     "output_type": "execute_result"
    }
   ],
   "source": [
    "session_data_pd['order_imbalance']"
   ]
  },
  {
   "cell_type": "code",
   "execution_count": 34,
   "metadata": {},
   "outputs": [
    {
     "name": "stdout",
     "output_type": "stream",
     "text": [
      "DuckDB tables deleted successfully.\n",
      "MongoDB collection deleted successfully.\n"
     ]
    }
   ],
   "source": [
    "from analysis.utilities import delete_all_tables\n",
    "\n",
    "delete_all_tables()"
   ]
  },
  {
   "cell_type": "code",
   "execution_count": 39,
   "metadata": {},
   "outputs": [
    {
     "name": "stdout",
     "output_type": "stream",
     "text": [
      "S1: [1.7999802e-05 3.5999604e-05]\n",
      "ST: [5.9999340e-06 2.3999736e-05]\n",
      "\n",
      "S1: [1.7999802e-05 3.5999604e-05]\n",
      "ST: [5.9999340e-06 2.3999736e-05]\n",
      "\n",
      "S1: [1.7999802e-05 3.5999604e-05]\n",
      "ST: [5.9999340e-06 2.3999736e-05]\n",
      "\n",
      "S1: [1.7999802e-05 3.5999604e-05]\n",
      "ST: [5.9999340e-06 2.3999736e-05]\n",
      "\n",
      "S1: [1.7999802e-05 3.5999604e-05]\n",
      "ST: [5.9999340e-06 2.3999736e-05]\n",
      "\n"
     ]
    }
   ],
   "source": [
    "import numpy as np\n",
    "from SALib.analyze import sobol\n",
    "\n",
    "def perform_sobol_analysis(problem, Y):\n",
    "    if np.all(Y == Y[0]) or np.var(Y) < 1e-10:\n",
    "        print(\"Warning: All Y values are the same or variance is very small.\")\n",
    "        return {'S1': np.zeros(problem['num_vars']), 'ST': np.zeros(problem['num_vars'])}\n",
    "    try:\n",
    "        Si = sobol.analyze(problem, Y, calc_second_order=False, print_to_console=False)\n",
    "        if np.any(np.isnan(Si['S1'])) or np.any(np.isnan(Si['ST'])):\n",
    "            print(\"Warning: NaN values in Sobol indices.\")\n",
    "            return {'S1': np.zeros(problem['num_vars']), 'ST': np.zeros(problem['num_vars'])}\n",
    "        return Si\n",
    "    except Exception as e:\n",
    "        print(f\"Error in Sobol analysis: {str(e)}\")\n",
    "        return {'S1': np.zeros(problem['num_vars']), 'ST': np.zeros(problem['num_vars'])}\n",
    "\n",
    "problem = {\n",
    "    'num_vars': 2,\n",
    "    'names': ['X1', 'X2'],\n",
    "    'bounds': [[0, 1], [0, 1]]\n",
    "}\n",
    "\n",
    "N = 1000\n",
    "Y = np.linspace(0, 1, N)\n",
    "\n",
    "for _ in range(5):\n",
    "    result = perform_sobol_analysis(problem, Y)\n",
    "    print(f\"S1: {result['S1']}\")\n",
    "    print(f\"ST: {result['ST']}\")\n",
    "    print()"
   ]
  }
 ],
 "metadata": {
  "kernelspec": {
   "display_name": "Python 3",
   "language": "python",
   "name": "python3"
  },
  "language_info": {
   "codemirror_mode": {
    "name": "ipython",
    "version": 3
   },
   "file_extension": ".py",
   "mimetype": "text/x-python",
   "name": "python",
   "nbconvert_exporter": "python",
   "pygments_lexer": "ipython3",
   "version": "3.11.9"
  }
 },
 "nbformat": 4,
 "nbformat_minor": 2
}
