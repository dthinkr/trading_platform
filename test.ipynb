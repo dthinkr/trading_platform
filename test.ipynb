{
 "cells": [
  {
   "cell_type": "markdown",
   "metadata": {},
   "source": [
    "# retrieve run data from mongo"
   ]
  },
  {
   "cell_type": "code",
   "execution_count": 140,
   "metadata": {},
   "outputs": [
    {
     "name": "stdout",
     "output_type": "stream",
     "text": [
      "shape: (104, 4)\n",
      "┌────────────┬───────────────────────────────────┬──────────────────┬─────────────────────────┐\n",
      "│ row_number ┆ order_book                        ┆ incoming         ┆ timestamp               │\n",
      "│ ---        ┆ ---                               ┆ ---              ┆ ---                     │\n",
      "│ u32        ┆ struct[2]                         ┆ struct[3]        ┆ datetime[μs]            │\n",
      "╞════════════╪═══════════════════════════════════╪══════════════════╪═════════════════════════╡\n",
      "│ 0          ┆ {[],[]}                           ┆ {null,null,null} ┆ 2024-05-28 21:53:22.703 │\n",
      "│ 1          ┆ {[],[{2002.0,1.0}]}               ┆ {1,2002.0,-1}    ┆ 2024-05-28 21:53:22.793 │\n",
      "│ 2          ┆ {[],[]}                           ┆ {1,2006.0,1}     ┆ 2024-05-28 21:53:24.336 │\n",
      "│ 3          ┆ {[{2000.0,1.0}],[]}               ┆ {1,2000.0,1}     ┆ 2024-05-28 21:53:24.427 │\n",
      "│ 4          ┆ {[{2000.0,2.0}],[]}               ┆ {1,2000.0,1}     ┆ 2024-05-28 21:53:24.508 │\n",
      "│ …          ┆ …                                 ┆ …                ┆ …                       │\n",
      "│ 99         ┆ {[{1996.0,3.0}, {1995.0,3.0}, … … ┆ {1,1997.0,-1}    ┆ 2024-05-28 21:54:20.587 │\n",
      "│ 100        ┆ {[{1996.0,3.0}, {1995.0,3.0}, … … ┆ {1,1994.0,1}     ┆ 2024-05-28 21:54:22.166 │\n",
      "│ 101        ┆ {[{1996.0,3.0}, {1995.0,3.0}, … … ┆ {null,null,null} ┆ 2024-05-28 21:54:22.222 │\n",
      "│ 102        ┆ {[{1996.0,3.0}, {1995.0,3.0}, … … ┆ {null,null,null} ┆ 2024-05-28 21:54:23.224 │\n",
      "│ 103        ┆ {[{1996.0,3.0}, {1995.0,3.0}, … … ┆ {null,null,null} ┆ 2024-05-28 21:54:23.295 │\n",
      "└────────────┴───────────────────────────────────┴──────────────────┴─────────────────────────┘\n"
     ]
    },
    {
     "name": "stderr",
     "output_type": "stream",
     "text": [
      "/var/folders/f0/djj7fhr557g00t074rkmzmrr0000gn/T/ipykernel_22231/1386854807.py:37: DeprecationWarning: `with_row_count` is deprecated. Use `with_row_index` instead. Note that the default column name has changed from 'row_nr' to 'index'.\n",
      "  new_order_books = new_order_books.with_row_count(\"row_number\")\n"
     ]
    }
   ],
   "source": [
    "from pymongo import MongoClient\n",
    "import polars as pl\n",
    "\n",
    "client = MongoClient(\"localhost\", 27017)\n",
    "db = client[\"trader\"]\n",
    "collection = db[\"message\"]\n",
    "documents = list(collection.find({}))  # Retrieve all documents\n",
    "run_data = pl.DataFrame(documents)\n",
    "\n",
    "\n",
    "import polars as pl\n",
    "\n",
    "# Filter rows where trading_session_id is '71062ff9-b112-4253-bccb-fc054640d17a'\n",
    "filtered_data = run_data.filter(pl.col(\"trading_session_id\") == run_data['trading_session_id'][-1])\n",
    "\n",
    "# Preprocess data in Python\n",
    "preprocessed_data = []\n",
    "for row in filtered_data.to_dicts():\n",
    "    content = row['content']\n",
    "    order_book = content.get('order_book', None)\n",
    "    incoming = content.get('incoming_message', None)\n",
    "    del incoming['trader_id']\n",
    "\n",
    "    timestamp = row['timestamp']  # Correctly access timestamp from row\n",
    "    \n",
    "    preprocessed_data.append({\n",
    "        'order_book': order_book,\n",
    "        'incoming': incoming,\n",
    "        'timestamp': timestamp  # Include timestamp in the dictionary\n",
    "    })\n",
    "\n",
    "# Create a new DataFrame from preprocessed data\n",
    "new_order_books = pl.DataFrame(preprocessed_data)\n",
    "\n",
    "# Sort by 'timestamp', handling None values by sorting them last\n",
    "new_order_books = new_order_books.sort(\"timestamp\", nulls_last=True)\n",
    "new_order_books = new_order_books.with_row_count(\"row_number\")\n",
    "\n",
    "# Display the DataFrame\n",
    "print(new_order_books)"
   ]
  },
  {
   "cell_type": "code",
   "execution_count": 143,
   "metadata": {},
   "outputs": [
    {
     "data": {
      "text/html": [
       "<div><style>\n",
       ".dataframe > thead > tr,\n",
       ".dataframe > tbody > tr {\n",
       "  text-align: right;\n",
       "  white-space: pre-wrap;\n",
       "}\n",
       "</style>\n",
       "<small>shape: (10, 4)</small><table border=\"1\" class=\"dataframe\"><thead><tr><th>row_number</th><th>order_book</th><th>incoming</th><th>timestamp</th></tr><tr><td>u32</td><td>struct[2]</td><td>struct[3]</td><td>datetime[μs]</td></tr></thead><tbody><tr><td>0</td><td>{[],[]}</td><td>{null,null,null}</td><td>2024-05-28 21:53:22.703</td></tr><tr><td>1</td><td>{[],[{2002.0,1.0}]}</td><td>{1,2002.0,-1}</td><td>2024-05-28 21:53:22.793</td></tr><tr><td>2</td><td>{[],[]}</td><td>{1,2006.0,1}</td><td>2024-05-28 21:53:24.336</td></tr><tr><td>3</td><td>{[{2000.0,1.0}],[]}</td><td>{1,2000.0,1}</td><td>2024-05-28 21:53:24.427</td></tr><tr><td>4</td><td>{[{2000.0,2.0}],[]}</td><td>{1,2000.0,1}</td><td>2024-05-28 21:53:24.508</td></tr><tr><td>5</td><td>{[],[]}</td><td>{1,2000.0,-1}</td><td>2024-05-28 21:53:24.792</td></tr><tr><td>6</td><td>{[],[]}</td><td>{1,2000.0,-1}</td><td>2024-05-28 21:53:24.842</td></tr><tr><td>7</td><td>{[{1996.0,1.0}],[]}</td><td>{1,1996.0,1}</td><td>2024-05-28 21:53:27.027</td></tr><tr><td>8</td><td>{[{1996.0,1.0}],[{1998.0,1.0}]}</td><td>{1,1998.0,-1}</td><td>2024-05-28 21:53:28.455</td></tr><tr><td>9</td><td>{[{1996.0,1.0}],[{1998.0,2.0}, {2000.0,1.0}]}</td><td>{1,1998.0,-1}</td><td>2024-05-28 21:53:28.556</td></tr></tbody></table></div>"
      ],
      "text/plain": [
       "shape: (10, 4)\n",
       "┌────────────┬───────────────────────────────────┬──────────────────┬─────────────────────────┐\n",
       "│ row_number ┆ order_book                        ┆ incoming         ┆ timestamp               │\n",
       "│ ---        ┆ ---                               ┆ ---              ┆ ---                     │\n",
       "│ u32        ┆ struct[2]                         ┆ struct[3]        ┆ datetime[μs]            │\n",
       "╞════════════╪═══════════════════════════════════╪══════════════════╪═════════════════════════╡\n",
       "│ 0          ┆ {[],[]}                           ┆ {null,null,null} ┆ 2024-05-28 21:53:22.703 │\n",
       "│ 1          ┆ {[],[{2002.0,1.0}]}               ┆ {1,2002.0,-1}    ┆ 2024-05-28 21:53:22.793 │\n",
       "│ 2          ┆ {[],[]}                           ┆ {1,2006.0,1}     ┆ 2024-05-28 21:53:24.336 │\n",
       "│ 3          ┆ {[{2000.0,1.0}],[]}               ┆ {1,2000.0,1}     ┆ 2024-05-28 21:53:24.427 │\n",
       "│ 4          ┆ {[{2000.0,2.0}],[]}               ┆ {1,2000.0,1}     ┆ 2024-05-28 21:53:24.508 │\n",
       "│ 5          ┆ {[],[]}                           ┆ {1,2000.0,-1}    ┆ 2024-05-28 21:53:24.792 │\n",
       "│ 6          ┆ {[],[]}                           ┆ {1,2000.0,-1}    ┆ 2024-05-28 21:53:24.842 │\n",
       "│ 7          ┆ {[{1996.0,1.0}],[]}               ┆ {1,1996.0,1}     ┆ 2024-05-28 21:53:27.027 │\n",
       "│ 8          ┆ {[{1996.0,1.0}],[{1998.0,1.0}]}   ┆ {1,1998.0,-1}    ┆ 2024-05-28 21:53:28.455 │\n",
       "│ 9          ┆ {[{1996.0,1.0}],[{1998.0,2.0}, {… ┆ {1,1998.0,-1}    ┆ 2024-05-28 21:53:28.556 │\n",
       "└────────────┴───────────────────────────────────┴──────────────────┴─────────────────────────┘"
      ]
     },
     "execution_count": 143,
     "metadata": {},
     "output_type": "execute_result"
    }
   ],
   "source": [
    "new_order_books.head(10)"
   ]
  },
  {
   "cell_type": "code",
   "execution_count": 47,
   "metadata": {},
   "outputs": [
    {
     "name": "stdout",
     "output_type": "stream",
     "text": [
      "DuckDB tables deleted successfully.\n",
      "MongoDB collection deleted successfully.\n"
     ]
    }
   ],
   "source": [
    "from analysis.utilities import delete_all_tables\n",
    "\n",
    "delete_all_tables()"
   ]
  }
 ],
 "metadata": {
  "kernelspec": {
   "display_name": "Python 3",
   "language": "python",
   "name": "python3"
  },
  "language_info": {
   "codemirror_mode": {
    "name": "ipython",
    "version": 3
   },
   "file_extension": ".py",
   "mimetype": "text/x-python",
   "name": "python",
   "nbconvert_exporter": "python",
   "pygments_lexer": "ipython3",
   "version": "3.11.9"
  }
 },
 "nbformat": 4,
 "nbformat_minor": 2
}
