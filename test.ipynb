{
 "cells": [
  {
   "cell_type": "code",
   "execution_count": 3,
   "metadata": {},
   "outputs": [
    {
     "name": "stdout",
     "output_type": "stream",
     "text": [
      "The calculated value is: 0.20000000000000004\n"
     ]
    }
   ],
   "source": [
    "# Given values\n",
    "noise_activity = 1  # This is the first value you mentioned\n",
    "pr_passive = 0.7\n",
    "trade_intensity = 0.4\n",
    "\n",
    "# Calculation\n",
    "inv = noise_activity * (1 - pr_passive) * trade_intensity / (1 - trade_intensity)\n",
    "\n",
    "print(f\"The calculated value is: {inv}\")"
   ]
  }
 ],
 "metadata": {
  "kernelspec": {
   "display_name": "Python 3",
   "language": "python",
   "name": "python3"
  },
  "language_info": {
   "codemirror_mode": {
    "name": "ipython",
    "version": 3
   },
   "file_extension": ".py",
   "mimetype": "text/x-python",
   "name": "python",
   "nbconvert_exporter": "python",
   "pygments_lexer": "ipython3",
   "version": "3.11.9"
  }
 },
 "nbformat": 4,
 "nbformat_minor": 2
}
