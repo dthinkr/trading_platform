{
 "cells": [
  {
   "cell_type": "markdown",
   "metadata": {},
   "source": [
    "# retrieve run data from mongo"
   ]
  },
  {
   "cell_type": "code",
   "execution_count": 192,
   "metadata": {},
   "outputs": [
    {
     "name": "stdout",
     "output_type": "stream",
     "text": [
      "shape: (89, 4)\n",
      "┌────────────┬───────────────────────────────────┬──────────────────┬─────────────────────────┐\n",
      "│ row_number ┆ order_book                        ┆ incoming         ┆ timestamp               │\n",
      "│ ---        ┆ ---                               ┆ ---              ┆ ---                     │\n",
      "│ u32        ┆ struct[2]                         ┆ struct[3]        ┆ datetime[μs]            │\n",
      "╞════════════╪═══════════════════════════════════╪══════════════════╪═════════════════════════╡\n",
      "│ 0          ┆ {[],[]}                           ┆ {null,null,null} ┆ 2024-05-29 00:00:36.930 │\n",
      "│ 1          ┆ {[],[{2006.0,1.0}]}               ┆ {1,2006.0,-1}    ┆ 2024-05-29 00:00:37.089 │\n",
      "│ 2          ┆ {[{1994.0,1.0}],[{2006.0,1.0}]}   ┆ {1,1994.0,1}     ┆ 2024-05-29 00:00:37.613 │\n",
      "│ 3          ┆ {[{1995.0,1.0}, {1994.0,1.0}],[{… ┆ {1,1995.0,1}     ┆ 2024-05-29 00:00:40.644 │\n",
      "│ 4          ┆ {[{1996.0,1.0}, {1995.0,1.0}, {1… ┆ {1,1996.0,1}     ┆ 2024-05-29 00:00:41.505 │\n",
      "│ …          ┆ …                                 ┆ …                ┆ …                       │\n",
      "│ 84         ┆ {[{2005.0,2.0}, {2003.0,6.0}, … … ┆ {1,2005.0,1}     ┆ 2024-05-29 00:01:36.809 │\n",
      "│ 85         ┆ {[{2005.0,2.0}, {2003.0,6.0}, … … ┆ {1,2007.0,-1}    ┆ 2024-05-29 00:01:37.078 │\n",
      "│ 86         ┆ {[{2005.0,2.0}, {2003.0,6.0}, … … ┆ {null,null,null} ┆ 2024-05-29 00:01:37.474 │\n",
      "│ 87         ┆ {[{2005.0,2.0}, {2003.0,6.0}, … … ┆ {null,null,null} ┆ 2024-05-29 00:01:37.533 │\n",
      "│ 88         ┆ {[{2005.0,2.0}, {2003.0,6.0}, … … ┆ {null,null,null} ┆ 2024-05-29 00:01:38.618 │\n",
      "└────────────┴───────────────────────────────────┴──────────────────┴─────────────────────────┘\n"
     ]
    }
   ],
   "source": [
    "from pymongo import MongoClient\n",
    "import polars as pl\n",
    "\n",
    "client = MongoClient(\"localhost\", 27017)\n",
    "db = client[\"trader\"]\n",
    "documents = list(db[\"message\"].find({}))\n",
    "run_data = pl.DataFrame(documents)\n",
    "\n",
    "filtered_data = run_data.filter(pl.col(\"trading_session_id\") == run_data['trading_session_id'][-1])\n",
    "\n",
    "preprocessed_data = [{\n",
    "    'order_book': row['content'].get('order_book'),\n",
    "    'incoming': {k: v for k, v in row['content'].get('incoming_message', {}).items() if k != 'trader_id'},\n",
    "    'timestamp': row['timestamp']\n",
    "} for row in filtered_data.to_dicts()]\n",
    "\n",
    "new_order_books = pl.DataFrame(preprocessed_data).sort(\"timestamp\", nulls_last=True).with_row_index(\"row_number\")\n",
    "print(new_order_books)"
   ]
  },
  {
   "cell_type": "code",
   "execution_count": 47,
   "metadata": {},
   "outputs": [
    {
     "name": "stdout",
     "output_type": "stream",
     "text": [
      "DuckDB tables deleted successfully.\n",
      "MongoDB collection deleted successfully.\n"
     ]
    }
   ],
   "source": [
    "from analysis.utilities import delete_all_tables\n",
    "\n",
    "delete_all_tables()"
   ]
  }
 ],
 "metadata": {
  "kernelspec": {
   "display_name": "Python 3",
   "language": "python",
   "name": "python3"
  },
  "language_info": {
   "codemirror_mode": {
    "name": "ipython",
    "version": 3
   },
   "file_extension": ".py",
   "mimetype": "text/x-python",
   "name": "python",
   "nbconvert_exporter": "python",
   "pygments_lexer": "ipython3",
   "version": "3.11.9"
  }
 },
 "nbformat": 4,
 "nbformat_minor": 2
}
