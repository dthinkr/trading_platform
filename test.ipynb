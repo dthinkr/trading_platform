{
 "cells": [
  {
   "cell_type": "markdown",
   "metadata": {},
   "source": [
    "# retrieve run data from mongo"
   ]
  },
  {
   "cell_type": "code",
   "execution_count": 29,
   "metadata": {},
   "outputs": [
    {
     "name": "stdout",
     "output_type": "stream",
     "text": [
      "shape: (7, 5)\n",
      "┌────────────┬──────────────┬─────────────────────┬──────────────┬─────────────────────────┐\n",
      "│ row_number ┆ message_type ┆ order_book          ┆ incoming     ┆ timestamp               │\n",
      "│ ---        ┆ ---          ┆ ---                 ┆ ---          ┆ ---                     │\n",
      "│ u32        ┆ str          ┆ struct[2]           ┆ struct[3]    ┆ datetime[μs]            │\n",
      "╞════════════╪══════════════╪═════════════════════╪══════════════╪═════════════════════════╡\n",
      "│ 0          ┆ ADD_ORDER    ┆ {[{2000.0,1.0}],[]} ┆ {1.0,2000,1} ┆ 2024-07-08 23:34:40.207 │\n",
      "│ 1          ┆ ADD_ORDER    ┆ {[{2000.0,2.0}],[]} ┆ {1.0,2000,1} ┆ 2024-07-08 23:34:40.299 │\n",
      "│ 2          ┆ ADD_ORDER    ┆ {[{2000.0,2.0},     ┆ {1.0,1999,1} ┆ 2024-07-08 23:34:40.365 │\n",
      "│            ┆              ┆ {1999.0,1.0}],…     ┆              ┆                         │\n",
      "│ 3          ┆ ADD_ORDER    ┆ {[{2000.0,2.0},     ┆ {1.0,1999,1} ┆ 2024-07-08 23:34:40.468 │\n",
      "│            ┆              ┆ {1999.0,2.0}],…     ┆              ┆                         │\n",
      "│ 4          ┆ ADD_ORDER    ┆ {[{2000.0,3.0},     ┆ {1.0,2000,1} ┆ 2024-07-08 23:34:40.553 │\n",
      "│            ┆              ┆ {1999.0,2.0}],…     ┆              ┆                         │\n",
      "│ 5          ┆ ADD_ORDER    ┆ {[{2000.0,4.0},     ┆ {1.0,2000,1} ┆ 2024-07-08 23:34:40.628 │\n",
      "│            ┆              ┆ {1999.0,2.0}],…     ┆              ┆                         │\n",
      "│ 6          ┆ ADD_ORDER    ┆ {[{2000.0,4.0},     ┆ {1.0,1998,1} ┆ 2024-07-08 23:34:40.741 │\n",
      "│            ┆              ┆ {1999.0,2.0}, …     ┆              ┆                         │\n",
      "└────────────┴──────────────┴─────────────────────┴──────────────┴─────────────────────────┘\n"
     ]
    }
   ],
   "source": [
    "from pymongo import MongoClient\n",
    "import polars as pl\n",
    "\n",
    "client = MongoClient(\"localhost\", 27017)\n",
    "db = client[\"trader\"]\n",
    "documents = list(db[\"message\"].find({}))\n",
    "run_data = pl.DataFrame(documents)\n",
    "\n",
    "filtered_data = run_data.filter(pl.col(\"trading_session_id\") == run_data['trading_session_id'][-1])\n",
    "\n",
    "preprocessed_data = [{\n",
    "    'message_type': row['content']['type'],\n",
    "    'order_book': row['content'].get('order_book'),\n",
    "    'incoming': {k: v for k, v in row['content'].get('incoming_message', {}).items() if k != 'trader_id'},\n",
    "    # 'trader_id': row['content']['incoming_message'].get('trader_id'),\n",
    "    \n",
    "    'timestamp': row['timestamp']\n",
    "} for row in filtered_data.to_dicts()]\n",
    "\n",
    "new_order_books = pl.DataFrame(preprocessed_data).sort(\"timestamp\", nulls_last=True).with_row_index(\"row_number\")\n",
    "print(new_order_books.head(10))"
   ]
  },
  {
   "cell_type": "code",
   "execution_count": 3,
   "metadata": {},
   "outputs": [
    {
     "name": "stdout",
     "output_type": "stream",
     "text": [
      "Total documents in collection: 15871\n",
      "Sample document keys: dict_keys(['_id', 'trading_session_id', 'content', 'timestamp'])\n",
      "Sample trading_session_id: 715dadb3-3a1c-4de9-bb7c-e8088bd0988d\n",
      "Found 0 documents for session ID: 92b3dbc3-da86-4740-9dfc-382d200c3e95\n",
      "No documents found for the session ID: 92b3dbc3-da86-4740-9dfc-382d200c3e95\n",
      "\n",
      "Found 60 unique trading session IDs\n",
      "First 5 session IDs: ['05fc09c2-da4b-452f-ad6f-3ceab1b46522', '0bb5f63e-37c4-4f21-84b0-83d7544d175c', '0e33b375-3cba-4f23-8431-9ce366a64c8f', '14d9ccc8-fe05-4dd4-bcff-7be3e28590b5', '16178e8b-4f06-4ea6-81c0-95c81d0abb0b']\n",
      "Is '92b3dbc3-da86-4740-9dfc-382d200c3e95' in the list of unique session IDs? False\n"
     ]
    }
   ],
   "source": [
    "from pymongo import MongoClient\n",
    "import polars as pl\n",
    "\n",
    "client = MongoClient(\"localhost\", 27017)\n",
    "db = client[\"trader\"]\n",
    "collection = db[\"message\"]\n",
    "\n",
    "# First, let's check the total number of documents and print a sample document\n",
    "total_documents = collection.count_documents({})\n",
    "print(f\"Total documents in collection: {total_documents}\")\n",
    "\n",
    "sample_doc = collection.find_one()\n",
    "if sample_doc:\n",
    "    print(\"Sample document keys:\", sample_doc.keys())\n",
    "    if 'trading_session_id' in sample_doc:\n",
    "        print(\"Sample trading_session_id:\", sample_doc['trading_session_id'])\n",
    "    else:\n",
    "        print(\"Warning: 'trading_session_id' not found in sample document\")\n",
    "else:\n",
    "    print(\"No documents found in the collection\")\n",
    "\n",
    "# Now, let's check for the specific session ID\n",
    "specific_session_id = '92b3dbc3-da86-4740-9dfc-382d200c3e95'\n",
    "session_documents = list(collection.find({'trading_session_id': specific_session_id}))\n",
    "print(f\"Found {len(session_documents)} documents for session ID: {specific_session_id}\")\n",
    "\n",
    "if session_documents:\n",
    "    run_data = pl.DataFrame(session_documents)\n",
    "    print(\"Columns in run_data:\", run_data.columns)\n",
    "    print(\"Shape of run_data:\", run_data.shape)\n",
    "    print(\"First few rows of run_data:\")\n",
    "    print(run_data.head())\n",
    "\n",
    "    # Your existing preprocessing code\n",
    "    preprocessed_data = [{\n",
    "        'message_type': row['content']['type'],\n",
    "        'order_book': row['content'].get('order_book'),\n",
    "        'incoming': {k: v for k, v in row['content'].get('incoming_message', {}).items() if k != 'trader_id'},\n",
    "        'timestamp': row['timestamp']\n",
    "    } for row in run_data.to_dicts()]\n",
    "\n",
    "    new_order_books = pl.DataFrame(preprocessed_data).sort(\"timestamp\", nulls_last=True).with_row_index(\"row_number\")\n",
    "    print(\"Preprocessed data:\")\n",
    "    print(new_order_books.head(10))\n",
    "else:\n",
    "    print(f\"No documents found for the session ID: {specific_session_id}\")\n",
    "\n",
    "# Let's also check all unique session IDs\n",
    "unique_session_ids = collection.distinct('trading_session_id')\n",
    "print(f\"\\nFound {len(unique_session_ids)} unique trading session IDs\")\n",
    "print(\"First 5 session IDs:\", unique_session_ids[:5])\n",
    "print(f\"Is '{specific_session_id}' in the list of unique session IDs? {specific_session_id in unique_session_ids}\")"
   ]
  }
 ],
 "metadata": {
  "kernelspec": {
   "display_name": "Python 3",
   "language": "python",
   "name": "python3"
  },
  "language_info": {
   "codemirror_mode": {
    "name": "ipython",
    "version": 3
   },
   "file_extension": ".py",
   "mimetype": "text/x-python",
   "name": "python",
   "nbconvert_exporter": "python",
   "pygments_lexer": "ipython3",
   "version": "3.11.9"
  }
 },
 "nbformat": 4,
 "nbformat_minor": 2
}
