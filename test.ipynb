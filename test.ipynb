{
 "cells": [
  {
   "cell_type": "markdown",
   "metadata": {},
   "source": [
    "# retrieve run data from mongo"
   ]
  },
  {
   "cell_type": "code",
   "execution_count": 15,
   "metadata": {},
   "outputs": [
    {
     "name": "stdout",
     "output_type": "stream",
     "text": [
      "shape: (10, 5)\n",
      "┌────────────┬──────────────┬─────────────────────────┬──────────────────┬─────────────────────────┐\n",
      "│ row_number ┆ message_type ┆ order_book              ┆ incoming         ┆ timestamp               │\n",
      "│ ---        ┆ ---          ┆ ---                     ┆ ---              ┆ ---                     │\n",
      "│ u32        ┆ str          ┆ struct[2]               ┆ struct[3]        ┆ datetime[μs]            │\n",
      "╞════════════╪══════════════╪═════════════════════════╪══════════════════╪═════════════════════════╡\n",
      "│ 0          ┆ ADD_ORDER    ┆ {[],[{2001.0,1.0}]}     ┆ {1,2001.0,-1}    ┆ 2024-06-10 15:03:59.904 │\n",
      "│ 1          ┆ ADD_ORDER    ┆ {[{1999.0,1.0}],[{2001. ┆ {1,1999.0,1}     ┆ 2024-06-10 15:03:59.970 │\n",
      "│            ┆              ┆ 0,1.0}]}                ┆                  ┆                         │\n",
      "│ 2          ┆ ADD_ORDER    ┆ {[{1999.0,1.0}],[{2001. ┆ {1,2001.0,-1}    ┆ 2024-06-10 15:04:00.040 │\n",
      "│            ┆              ┆ 0,2.0}]}                ┆                  ┆                         │\n",
      "│ 3          ┆ BOOK_UPDATED ┆ {[{1999.0,1.0}],[{2001. ┆ {null,null,null} ┆ 2024-06-10 15:04:00.079 │\n",
      "│            ┆              ┆ 0,2.0}]}                ┆                  ┆                         │\n",
      "│ 4          ┆ ADD_ORDER    ┆ {[{1999.0,2.0}],[{2001. ┆ {1,1999.0,1}     ┆ 2024-06-10 15:04:00.143 │\n",
      "│            ┆              ┆ 0,2.0}]}                ┆                  ┆                         │\n",
      "│ 5          ┆ ADD_ORDER    ┆ {[{1999.0,2.0},         ┆ {1,1997.0,1}     ┆ 2024-06-10 15:04:00.209 │\n",
      "│            ┆              ┆ {1997.0,1.0}],[{…       ┆                  ┆                         │\n",
      "│ 6          ┆ ADD_ORDER    ┆ {[{1999.0,2.0},         ┆ {1,2000.0,-1}    ┆ 2024-06-10 15:04:04.229 │\n",
      "│            ┆              ┆ {1997.0,1.0}],[{…       ┆                  ┆                         │\n",
      "│ 7          ┆ ADD_ORDER    ┆ {[{1999.0,2.0},         ┆ {1,2000.0,1}     ┆ 2024-06-10 15:04:04.483 │\n",
      "│            ┆              ┆ {1997.0,1.0}],[{…       ┆                  ┆                         │\n",
      "│ 8          ┆ ADD_ORDER    ┆ {[{1999.0,2.0},         ┆ {1,1996.0,1}     ┆ 2024-06-10 15:04:06.808 │\n",
      "│            ┆              ┆ {1997.0,1.0}, {1…       ┆                  ┆                         │\n",
      "│ 9          ┆ ADD_ORDER    ┆ {[{1999.0,2.0},         ┆ {1,1997.0,1}     ┆ 2024-06-10 15:04:09.320 │\n",
      "│            ┆              ┆ {1997.0,2.0}, {1…       ┆                  ┆                         │\n",
      "└────────────┴──────────────┴─────────────────────────┴──────────────────┴─────────────────────────┘\n"
     ]
    }
   ],
   "source": [
    "from pymongo import MongoClient\n",
    "import polars as pl\n",
    "\n",
    "client = MongoClient(\"localhost\", 27017)\n",
    "db = client[\"trader\"]\n",
    "documents = list(db[\"message\"].find({}))\n",
    "run_data = pl.DataFrame(documents)\n",
    "\n",
    "filtered_data = run_data.filter(pl.col(\"trading_session_id\") == run_data['trading_session_id'][-1])\n",
    "\n",
    "preprocessed_data = [{\n",
    "    'message_type': row['content']['type'],\n",
    "    'order_book': row['content'].get('order_book'),\n",
    "    'incoming': {k: v for k, v in row['content'].get('incoming_message', {}).items() if k != 'trader_id'},\n",
    "    # 'trader_id': row['content']['incoming_message'].get('trader_id'),\n",
    "    \n",
    "    'timestamp': row['timestamp']\n",
    "} for row in filtered_data.to_dicts()]\n",
    "\n",
    "new_order_books = pl.DataFrame(preprocessed_data).sort(\"timestamp\", nulls_last=True).with_row_index(\"row_number\")\n",
    "print(new_order_books.head(10))"
   ]
  },
  {
   "cell_type": "code",
   "execution_count": 16,
   "metadata": {},
   "outputs": [
    {
     "data": {
      "text/html": [
       "<div><style>\n",
       ".dataframe > thead > tr,\n",
       ".dataframe > tbody > tr {\n",
       "  text-align: right;\n",
       "  white-space: pre-wrap;\n",
       "}\n",
       "</style>\n",
       "<small>shape: (10, 5)</small><table border=\"1\" class=\"dataframe\"><thead><tr><th>row_number</th><th>message_type</th><th>order_book</th><th>incoming</th><th>timestamp</th></tr><tr><td>u32</td><td>str</td><td>struct[2]</td><td>struct[3]</td><td>datetime[μs]</td></tr></thead><tbody><tr><td>0</td><td>&quot;ADD_ORDER&quot;</td><td>{[],[{2001.0,1.0}]}</td><td>{1,2001.0,-1}</td><td>2024-06-10 15:03:59.904</td></tr><tr><td>1</td><td>&quot;ADD_ORDER&quot;</td><td>{[{1999.0,1.0}],[{2001.0,1.0}]}</td><td>{1,1999.0,1}</td><td>2024-06-10 15:03:59.970</td></tr><tr><td>2</td><td>&quot;ADD_ORDER&quot;</td><td>{[{1999.0,1.0}],[{2001.0,2.0}]}</td><td>{1,2001.0,-1}</td><td>2024-06-10 15:04:00.040</td></tr><tr><td>3</td><td>&quot;BOOK_UPDATED&quot;</td><td>{[{1999.0,1.0}],[{2001.0,2.0}]}</td><td>{null,null,null}</td><td>2024-06-10 15:04:00.079</td></tr><tr><td>4</td><td>&quot;ADD_ORDER&quot;</td><td>{[{1999.0,2.0}],[{2001.0,2.0}]}</td><td>{1,1999.0,1}</td><td>2024-06-10 15:04:00.143</td></tr><tr><td>5</td><td>&quot;ADD_ORDER&quot;</td><td>{[{1999.0,2.0}, {1997.0,1.0}],[{2001.0,2.0}]}</td><td>{1,1997.0,1}</td><td>2024-06-10 15:04:00.209</td></tr><tr><td>6</td><td>&quot;ADD_ORDER&quot;</td><td>{[{1999.0,2.0}, {1997.0,1.0}],[{2000.0,1.0}, {2001.0,2.0}]}</td><td>{1,2000.0,-1}</td><td>2024-06-10 15:04:04.229</td></tr><tr><td>7</td><td>&quot;ADD_ORDER&quot;</td><td>{[{1999.0,2.0}, {1997.0,1.0}],[{2001.0,2.0}]}</td><td>{1,2000.0,1}</td><td>2024-06-10 15:04:04.483</td></tr><tr><td>8</td><td>&quot;ADD_ORDER&quot;</td><td>{[{1999.0,2.0}, {1997.0,1.0}, {1996.0,1.0}],[{2001.0,2.0}]}</td><td>{1,1996.0,1}</td><td>2024-06-10 15:04:06.808</td></tr><tr><td>9</td><td>&quot;ADD_ORDER&quot;</td><td>{[{1999.0,2.0}, {1997.0,2.0}, {1996.0,1.0}],[{2001.0,2.0}]}</td><td>{1,1997.0,1}</td><td>2024-06-10 15:04:09.320</td></tr></tbody></table></div>"
      ],
      "text/plain": [
       "shape: (10, 5)\n",
       "┌────────────┬──────────────┬─────────────────────────┬──────────────────┬─────────────────────────┐\n",
       "│ row_number ┆ message_type ┆ order_book              ┆ incoming         ┆ timestamp               │\n",
       "│ ---        ┆ ---          ┆ ---                     ┆ ---              ┆ ---                     │\n",
       "│ u32        ┆ str          ┆ struct[2]               ┆ struct[3]        ┆ datetime[μs]            │\n",
       "╞════════════╪══════════════╪═════════════════════════╪══════════════════╪═════════════════════════╡\n",
       "│ 0          ┆ ADD_ORDER    ┆ {[],[{2001.0,1.0}]}     ┆ {1,2001.0,-1}    ┆ 2024-06-10 15:03:59.904 │\n",
       "│ 1          ┆ ADD_ORDER    ┆ {[{1999.0,1.0}],[{2001. ┆ {1,1999.0,1}     ┆ 2024-06-10 15:03:59.970 │\n",
       "│            ┆              ┆ 0,1.0}]}                ┆                  ┆                         │\n",
       "│ 2          ┆ ADD_ORDER    ┆ {[{1999.0,1.0}],[{2001. ┆ {1,2001.0,-1}    ┆ 2024-06-10 15:04:00.040 │\n",
       "│            ┆              ┆ 0,2.0}]}                ┆                  ┆                         │\n",
       "│ 3          ┆ BOOK_UPDATED ┆ {[{1999.0,1.0}],[{2001. ┆ {null,null,null} ┆ 2024-06-10 15:04:00.079 │\n",
       "│            ┆              ┆ 0,2.0}]}                ┆                  ┆                         │\n",
       "│ 4          ┆ ADD_ORDER    ┆ {[{1999.0,2.0}],[{2001. ┆ {1,1999.0,1}     ┆ 2024-06-10 15:04:00.143 │\n",
       "│            ┆              ┆ 0,2.0}]}                ┆                  ┆                         │\n",
       "│ 5          ┆ ADD_ORDER    ┆ {[{1999.0,2.0},         ┆ {1,1997.0,1}     ┆ 2024-06-10 15:04:00.209 │\n",
       "│            ┆              ┆ {1997.0,1.0}],[{…       ┆                  ┆                         │\n",
       "│ 6          ┆ ADD_ORDER    ┆ {[{1999.0,2.0},         ┆ {1,2000.0,-1}    ┆ 2024-06-10 15:04:04.229 │\n",
       "│            ┆              ┆ {1997.0,1.0}],[{…       ┆                  ┆                         │\n",
       "│ 7          ┆ ADD_ORDER    ┆ {[{1999.0,2.0},         ┆ {1,2000.0,1}     ┆ 2024-06-10 15:04:04.483 │\n",
       "│            ┆              ┆ {1997.0,1.0}],[{…       ┆                  ┆                         │\n",
       "│ 8          ┆ ADD_ORDER    ┆ {[{1999.0,2.0},         ┆ {1,1996.0,1}     ┆ 2024-06-10 15:04:06.808 │\n",
       "│            ┆              ┆ {1997.0,1.0}, {1…       ┆                  ┆                         │\n",
       "│ 9          ┆ ADD_ORDER    ┆ {[{1999.0,2.0},         ┆ {1,1997.0,1}     ┆ 2024-06-10 15:04:09.320 │\n",
       "│            ┆              ┆ {1997.0,2.0}, {1…       ┆                  ┆                         │\n",
       "└────────────┴──────────────┴─────────────────────────┴──────────────────┴─────────────────────────┘"
      ]
     },
     "execution_count": 16,
     "metadata": {},
     "output_type": "execute_result"
    }
   ],
   "source": [
    "new_order_books.head(10)"
   ]
  },
  {
   "cell_type": "code",
   "execution_count": 155,
   "metadata": {},
   "outputs": [
    {
     "data": {
      "text/plain": [
       "{'content': 'Market is open',\n",
       " 'type': 'BOOK_UPDATED',\n",
       " 'order_book': {'bids': [], 'asks': []},\n",
       " 'active_orders': [],\n",
       " 'history': [],\n",
       " 'spread': None,\n",
       " 'midpoint': None,\n",
       " 'transaction_price': None,\n",
       " 'incoming_message': {'amount': None,\n",
       "  'price': None,\n",
       "  'order_type': None,\n",
       "  'trader_id': None},\n",
       " 'text': None}"
      ]
     },
     "execution_count": 155,
     "metadata": {},
     "output_type": "execute_result"
    }
   ],
   "source": [
    "filtered_data['content'][0]"
   ]
  },
  {
   "cell_type": "code",
   "execution_count": 153,
   "metadata": {},
   "outputs": [
    {
     "data": {
      "text/html": [
       "<div><style>\n",
       ".dataframe > thead > tr,\n",
       ".dataframe > tbody > tr {\n",
       "  text-align: right;\n",
       "  white-space: pre-wrap;\n",
       "}\n",
       "</style>\n",
       "<small>shape: (10, 4)</small><table border=\"1\" class=\"dataframe\"><thead><tr><th>_id</th><th>trading_session_id</th><th>content</th><th>timestamp</th></tr><tr><td>object</td><td>str</td><td>struct[10]</td><td>datetime[μs]</td></tr></thead><tbody><tr><td>665e538d235236aa377dbe6d</td><td>&quot;8f3c43ba-e0be-…</td><td>{&quot;Market is open&quot;,&quot;BOOK_UPDATED&quot;,{[],[]},[],[],null,null,null,{null,null,null,null},null}</td><td>2024-06-04 00:36:45.097</td></tr><tr><td>665e538d235236aa377dbe6e</td><td>&quot;8f3c43ba-e0be-…</td><td>{null,&quot;ADD_ORDER&quot;,{[{2000.0,1.0}],[]},[{b&quot;\\xdb\\x84\\xac0\\xee(Ag\\xae\\xdd_:\\xd5\\x09D\\xde&quot;,&quot;NOISE_b776e3b3-f0ec-439e-b47a-91518a59ee59&quot;,1,1.0,2000.0,2024-06-03 23:36:45.132}],[],null,null,null,{1,2000.0,1,&quot;NOISE_b776e3b3-f0ec-439e-b47a-91518a59ee59&quot;},&quot;add_order update processed&quot;}</td><td>2024-06-04 00:36:45.186</td></tr><tr><td>665e538e235236aa377dbe6f</td><td>&quot;8f3c43ba-e0be-…</td><td>{null,&quot;ADD_ORDER&quot;,{[],[]},[],[],null,null,null,{1,2000.0,-1,&quot;NOISE_b776e3b3-f0ec-439e-b47a-91518a59ee59&quot;},&quot;add_order update processed&quot;}</td><td>2024-06-04 00:36:46.973</td></tr><tr><td>665e538f235236aa377dbe70</td><td>&quot;8f3c43ba-e0be-…</td><td>{null,&quot;ADD_ORDER&quot;,{[{2001.0,1.0}],[]},[{b&quot;\\xbdF\\xc0\\xff\\xafSL\\x9c\\x8a\\xf6\\xab\\x85{5\\x8aF&quot;,&quot;NOISE_b776e3b3-f0ec-439e-b47a-91518a59ee59&quot;,1,1.0,2001.0,2024-06-03 23:36:47.065}],[{&quot;a48c6e4f-47a7-432f-a73d-408658a3da9f&quot;,&quot;8f3c43ba-e0be-475d-b3e7-1cd5ad99012e&quot;,&quot;db84ac30-ee28-4167-aedd-5f3ad50944de&quot;,&quot;f978b8b1-3979-4e1e-91f2-40f6b0e25900&quot;,2024-06-04 00:36:46.571,2000.0}],null,null,2000.0,{1,2001.0,1,&quot;NOISE_b776e3b3-f0ec-439e-b47a-91518a59ee59&quot;},&quot;add_order update processed&quot;}</td><td>2024-06-04 00:36:47.154</td></tr><tr><td>665e5391235236aa377dbe71</td><td>&quot;8f3c43ba-e0be-…</td><td>{null,&quot;ADD_ORDER&quot;,{[{2001.0,1.0}],[{2011.0,1.0}]},[{b&quot;\\xbdF\\xc0\\xff\\xafSL\\x9c\\x8a\\xf6\\xab\\x85{5\\x8aF&quot;,&quot;NOISE_b776e3b3-f0ec-439e-b47a-91518a59ee59&quot;,1,1.0,2001.0,2024-06-03 23:36:47.065}, {b&quot;K\\xdcGo\\xf6\\xebKs\\x9a4\\x9e\\xa3\\xae\\xc6\\xc5\\x9f&quot;,&quot;NOISE_b776e3b3-f0ec-439e-b47a-91518a59ee59&quot;,-1,1.0,2011.0,2024-06-03 23:36:49.317}],[{&quot;a48c6e4f-47a7-432f-a73d-408658a3da9f&quot;,&quot;8f3c43ba-e0be-475d-b3e7-1cd5ad99012e&quot;,&quot;db84ac30-ee28-4167-aedd-5f3ad50944de&quot;,&quot;f978b8b1-3979-4e1e-91f2-40f6b0e25900&quot;,2024-06-04 00:36:46.571,2000.0}],10.0,2006.0,2000.0,{1,2011.0,-1,&quot;NOISE_b776e3b3-f0ec-439e-b47a-91518a59ee59&quot;},&quot;add_order update processed&quot;}</td><td>2024-06-04 00:36:49.452</td></tr><tr><td>665e5391235236aa377dbe72</td><td>&quot;8f3c43ba-e0be-…</td><td>{null,&quot;CANCEL_ORDER&quot;,{[],[{2011.0,1.0}]},[{b&quot;K\\xdcGo\\xf6\\xebKs\\x9a4\\x9e\\xa3\\xae\\xc6\\xc5\\x9f&quot;,&quot;NOISE_b776e3b3-f0ec-439e-b47a-91518a59ee59&quot;,-1,1.0,2011.0,2024-06-03 23:36:49.317}],[{&quot;a48c6e4f-47a7-432f-a73d-408658a3da9f&quot;,&quot;8f3c43ba-e0be-475d-b3e7-1cd5ad99012e&quot;,&quot;db84ac30-ee28-4167-aedd-5f3ad50944de&quot;,&quot;f978b8b1-3979-4e1e-91f2-40f6b0e25900&quot;,2024-06-04 00:36:46.571,2000.0}],null,null,2000.0,{-1,2001.0,1,&quot;NOISE_b776e3b3-f0ec-439e-b47a-91518a59ee59&quot;},&quot;cancel_order update processed&quot;}</td><td>2024-06-04 00:36:49.550</td></tr><tr><td>665e5391235236aa377dbe73</td><td>&quot;8f3c43ba-e0be-…</td><td>{null,&quot;ADD_ORDER&quot;,{[{2000.0,1.0}],[{2011.0,1.0}]},[{b&quot;K\\xdcGo\\xf6\\xebKs\\x9a4\\x9e\\xa3\\xae\\xc6\\xc5\\x9f&quot;,&quot;NOISE_b776e3b3-f0ec-439e-b47a-91518a59ee59&quot;,-1,1.0,2011.0,2024-06-03 23:36:49.317}, {b&quot;\\xcd\\x18X\\xb9\\xe6\\x1fO\\xfe\\xb7a\\xf2\\xe6T}T\\xc2&quot;,&quot;NOISE_b776e3b3-f0ec-439e-b47a-91518a59ee59&quot;,1,1.0,2000.0,2024-06-03 23:36:49.800}],[{&quot;a48c6e4f-47a7-432f-a73d-408658a3da9f&quot;,&quot;8f3c43ba-e0be-475d-b3e7-1cd5ad99012e&quot;,&quot;db84ac30-ee28-4167-aedd-5f3ad50944de&quot;,&quot;f978b8b1-3979-4e1e-91f2-40f6b0e25900&quot;,2024-06-04 00:36:46.571,2000.0}],11.0,2005.5,2000.0,{1,2000.0,1,&quot;NOISE_b776e3b3-f0ec-439e-b47a-91518a59ee59&quot;},&quot;add_order update processed&quot;}</td><td>2024-06-04 00:36:49.920</td></tr><tr><td>665e5392235236aa377dbe74</td><td>&quot;8f3c43ba-e0be-…</td><td>{null,&quot;CANCEL_ORDER&quot;,{[{2000.0,1.0}],[]},[{b&quot;\\xcd\\x18X\\xb9\\xe6\\x1fO\\xfe\\xb7a\\xf2\\xe6T}T\\xc2&quot;,&quot;NOISE_b776e3b3-f0ec-439e-b47a-91518a59ee59&quot;,1,1.0,2000.0,2024-06-03 23:36:49.800}],[{&quot;a48c6e4f-47a7-432f-a73d-408658a3da9f&quot;,&quot;8f3c43ba-e0be-475d-b3e7-1cd5ad99012e&quot;,&quot;db84ac30-ee28-4167-aedd-5f3ad50944de&quot;,&quot;f978b8b1-3979-4e1e-91f2-40f6b0e25900&quot;,2024-06-04 00:36:46.571,2000.0}],null,null,2000.0,{-1,2011.0,-1,&quot;NOISE_b776e3b3-f0ec-439e-b47a-91518a59ee59&quot;},&quot;cancel_order update processed&quot;}</td><td>2024-06-04 00:36:50.008</td></tr><tr><td>665e5392235236aa377dbe75</td><td>&quot;8f3c43ba-e0be-…</td><td>{null,&quot;ADD_ORDER&quot;,{[],[]},[],[{&quot;a48c6e4f-47a7-432f-a73d-408658a3da9f&quot;,&quot;8f3c43ba-e0be-475d-b3e7-1cd5ad99012e&quot;,&quot;db84ac30-ee28-4167-aedd-5f3ad50944de&quot;,&quot;f978b8b1-3979-4e1e-91f2-40f6b0e25900&quot;,2024-06-04 00:36:46.571,2000.0}],null,null,2000.0,{1,2000.0,-1,&quot;NOISE_b776e3b3-f0ec-439e-b47a-91518a59ee59&quot;},&quot;add_order update processed&quot;}</td><td>2024-06-04 00:36:50.612</td></tr><tr><td>665e5393235236aa377dbe76</td><td>&quot;8f3c43ba-e0be-…</td><td>{null,&quot;ADD_ORDER&quot;,{[{2000.0,1.0}],[]},[{b&quot;F\\xfa\\xbfx&lt;\\x83C\\xcd\\xbd_\\xe1}H\\xc0\\x82c&quot;,&quot;NOISE_b776e3b3-f0ec-439e-b47a-91518a59ee59&quot;,1,1.0,2000.0,2024-06-03 23:36:51.017}],[{&quot;a48c6e4f-47a7-432f-a73d-408658a3da9f&quot;,&quot;8f3c43ba-e0be-475d-b3e7-1cd5ad99012e&quot;,&quot;db84ac30-ee28-4167-aedd-5f3ad50944de&quot;,&quot;f978b8b1-3979-4e1e-91f2-40f6b0e25900&quot;,2024-06-04 00:36:46.571,2000.0}, {&quot;73afd0be-cef2-4c36-b705-565ef71e145a&quot;,&quot;8f3c43ba-e0be-475d-b3e7-1cd5ad99012e&quot;,&quot;cd1858b9-e61f-4ffe-b761-f2e6547d54c2&quot;,&quot;1c63808f-d427-452d-afc4-a13a7a51667d&quot;,2024-06-04 00:36:50.395,2000.0}],null,null,2000.0,{1,2000.0,1,&quot;NOISE_b776e3b3-f0ec-439e-b47a-91518a59ee59&quot;},&quot;add_order update processed&quot;}</td><td>2024-06-04 00:36:51.115</td></tr></tbody></table></div>"
      ],
      "text/plain": [
       "shape: (10, 4)\n",
       "┌───────────────────────────┬───────────────────────────┬───────────────────────────┬──────────────┐\n",
       "│ _id                       ┆ trading_session_id        ┆ content                   ┆ timestamp    │\n",
       "│ ---                       ┆ ---                       ┆ ---                       ┆ ---          │\n",
       "│ object                    ┆ str                       ┆ struct[10]                ┆ datetime[μs] │\n",
       "╞═══════════════════════════╪═══════════════════════════╪═══════════════════════════╪══════════════╡\n",
       "│ 665e538d235236aa377dbe6d  ┆ 8f3c43ba-e0be-475d-b3e7-1 ┆ {\"Market is               ┆ 2024-06-04   │\n",
       "│                           ┆ cd5ad99…                  ┆ open\",\"BOOK_UPDATED\"…     ┆ 00:36:45.097 │\n",
       "│ 665e538d235236aa377dbe6e  ┆ 8f3c43ba-e0be-475d-b3e7-1 ┆ {null,\"ADD_ORDER\",{[{2000 ┆ 2024-06-04   │\n",
       "│                           ┆ cd5ad99…                  ┆ .0,1.0}…                  ┆ 00:36:45.186 │\n",
       "│ 665e538e235236aa377dbe6f  ┆ 8f3c43ba-e0be-475d-b3e7-1 ┆ {null,\"ADD_ORDER\",{[],[]} ┆ 2024-06-04   │\n",
       "│                           ┆ cd5ad99…                  ┆ ,[],[],…                  ┆ 00:36:46.973 │\n",
       "│ 665e538f235236aa377dbe70  ┆ 8f3c43ba-e0be-475d-b3e7-1 ┆ {null,\"ADD_ORDER\",{[{2001 ┆ 2024-06-04   │\n",
       "│                           ┆ cd5ad99…                  ┆ .0,1.0}…                  ┆ 00:36:47.154 │\n",
       "│ 665e5391235236aa377dbe71  ┆ 8f3c43ba-e0be-475d-b3e7-1 ┆ {null,\"ADD_ORDER\",{[{2001 ┆ 2024-06-04   │\n",
       "│                           ┆ cd5ad99…                  ┆ .0,1.0}…                  ┆ 00:36:49.452 │\n",
       "│ 665e5391235236aa377dbe72  ┆ 8f3c43ba-e0be-475d-b3e7-1 ┆ {null,\"CANCEL_ORDER\",{[], ┆ 2024-06-04   │\n",
       "│                           ┆ cd5ad99…                  ┆ [{2011.…                  ┆ 00:36:49.550 │\n",
       "│ 665e5391235236aa377dbe73  ┆ 8f3c43ba-e0be-475d-b3e7-1 ┆ {null,\"ADD_ORDER\",{[{2000 ┆ 2024-06-04   │\n",
       "│                           ┆ cd5ad99…                  ┆ .0,1.0}…                  ┆ 00:36:49.920 │\n",
       "│ 665e5392235236aa377dbe74  ┆ 8f3c43ba-e0be-475d-b3e7-1 ┆ {null,\"CANCEL_ORDER\",{[{2 ┆ 2024-06-04   │\n",
       "│                           ┆ cd5ad99…                  ┆ 000.0,1…                  ┆ 00:36:50.008 │\n",
       "│ 665e5392235236aa377dbe75  ┆ 8f3c43ba-e0be-475d-b3e7-1 ┆ {null,\"ADD_ORDER\",{[],[]} ┆ 2024-06-04   │\n",
       "│                           ┆ cd5ad99…                  ┆ ,[],[{\"…                  ┆ 00:36:50.612 │\n",
       "│ 665e5393235236aa377dbe76  ┆ 8f3c43ba-e0be-475d-b3e7-1 ┆ {null,\"ADD_ORDER\",{[{2000 ┆ 2024-06-04   │\n",
       "│                           ┆ cd5ad99…                  ┆ .0,1.0}…                  ┆ 00:36:51.115 │\n",
       "└───────────────────────────┴───────────────────────────┴───────────────────────────┴──────────────┘"
      ]
     },
     "execution_count": 153,
     "metadata": {},
     "output_type": "execute_result"
    }
   ],
   "source": [
    "filtered_data.head(10)"
   ]
  },
  {
   "cell_type": "code",
   "execution_count": 27,
   "metadata": {},
   "outputs": [
    {
     "data": {
      "text/html": [
       "<div><style>\n",
       ".dataframe > thead > tr,\n",
       ".dataframe > tbody > tr {\n",
       "  text-align: right;\n",
       "  white-space: pre-wrap;\n",
       "}\n",
       "</style>\n",
       "<small>shape: (10, 4)</small><table border=\"1\" class=\"dataframe\"><thead><tr><th>row_number</th><th>order_book</th><th>incoming</th><th>timestamp</th></tr><tr><td>u32</td><td>struct[2]</td><td>struct[4]</td><td>datetime[μs]</td></tr></thead><tbody><tr><td>0</td><td>{[],[]}</td><td>{null,null,null,null}</td><td>2024-06-03 00:48:40.647</td></tr><tr><td>1</td><td>{[{2000.0,1.0}],[]}</td><td>{1,2000,1,null}</td><td>2024-06-03 00:48:40.766</td></tr><tr><td>2</td><td>{[],[]}</td><td>{1,2000,-1,null}</td><td>2024-06-03 00:48:40.867</td></tr><tr><td>3</td><td>{[{2001.0,1.0}],[]}</td><td>{1,2001,1,null}</td><td>2024-06-03 00:48:40.955</td></tr><tr><td>4</td><td>{[{2001.0,1.0}],[{2011.0,1.0}]}</td><td>{1,2011,-1,null}</td><td>2024-06-03 00:48:41.048</td></tr><tr><td>5</td><td>{[{2001.0,1.0}, {2000.0,1.0}],[{2011.0,1.0}]}</td><td>{1,2000,1,null}</td><td>2024-06-03 00:48:41.154</td></tr><tr><td>6</td><td>{[{2000.0,1.0}],[{2011.0,1.0}]}</td><td>{1,2000,-1,null}</td><td>2024-06-03 00:48:41.261</td></tr><tr><td>7</td><td>{[{2000.0,2.0}],[{2011.0,1.0}]}</td><td>{1,2000,1,null}</td><td>2024-06-03 00:48:41.346</td></tr><tr><td>8</td><td>{[{2000.0,1.0}],[{2011.0,1.0}]}</td><td>{1,2000,-1,null}</td><td>2024-06-03 00:48:41.488</td></tr><tr><td>9</td><td>{[{2000.0,2.0}],[{2011.0,1.0}]}</td><td>{1,2000,1,null}</td><td>2024-06-03 00:48:41.571</td></tr></tbody></table></div>"
      ],
      "text/plain": [
       "shape: (10, 4)\n",
       "┌────────────┬───────────────────────────────────┬───────────────────────┬─────────────────────────┐\n",
       "│ row_number ┆ order_book                        ┆ incoming              ┆ timestamp               │\n",
       "│ ---        ┆ ---                               ┆ ---                   ┆ ---                     │\n",
       "│ u32        ┆ struct[2]                         ┆ struct[4]             ┆ datetime[μs]            │\n",
       "╞════════════╪═══════════════════════════════════╪═══════════════════════╪═════════════════════════╡\n",
       "│ 0          ┆ {[],[]}                           ┆ {null,null,null,null} ┆ 2024-06-03 00:48:40.647 │\n",
       "│ 1          ┆ {[{2000.0,1.0}],[]}               ┆ {1,2000,1,null}       ┆ 2024-06-03 00:48:40.766 │\n",
       "│ 2          ┆ {[],[]}                           ┆ {1,2000,-1,null}      ┆ 2024-06-03 00:48:40.867 │\n",
       "│ 3          ┆ {[{2001.0,1.0}],[]}               ┆ {1,2001,1,null}       ┆ 2024-06-03 00:48:40.955 │\n",
       "│ 4          ┆ {[{2001.0,1.0}],[{2011.0,1.0}]}   ┆ {1,2011,-1,null}      ┆ 2024-06-03 00:48:41.048 │\n",
       "│ 5          ┆ {[{2001.0,1.0}, {2000.0,1.0}],[{… ┆ {1,2000,1,null}       ┆ 2024-06-03 00:48:41.154 │\n",
       "│ 6          ┆ {[{2000.0,1.0}],[{2011.0,1.0}]}   ┆ {1,2000,-1,null}      ┆ 2024-06-03 00:48:41.261 │\n",
       "│ 7          ┆ {[{2000.0,2.0}],[{2011.0,1.0}]}   ┆ {1,2000,1,null}       ┆ 2024-06-03 00:48:41.346 │\n",
       "│ 8          ┆ {[{2000.0,1.0}],[{2011.0,1.0}]}   ┆ {1,2000,-1,null}      ┆ 2024-06-03 00:48:41.488 │\n",
       "│ 9          ┆ {[{2000.0,2.0}],[{2011.0,1.0}]}   ┆ {1,2000,1,null}       ┆ 2024-06-03 00:48:41.571 │\n",
       "└────────────┴───────────────────────────────────┴───────────────────────┴─────────────────────────┘"
      ]
     },
     "execution_count": 27,
     "metadata": {},
     "output_type": "execute_result"
    }
   ],
   "source": [
    "new_order_books.head(10)"
   ]
  },
  {
   "cell_type": "code",
   "execution_count": 28,
   "metadata": {},
   "outputs": [
    {
     "name": "stdout",
     "output_type": "stream",
     "text": [
      "DuckDB tables deleted successfully.\n",
      "MongoDB collection deleted successfully.\n"
     ]
    }
   ],
   "source": [
    "from analysis.utilities import delete_all_tables\n",
    "\n",
    "delete_all_tables()"
   ]
  }
 ],
 "metadata": {
  "kernelspec": {
   "display_name": "Python 3",
   "language": "python",
   "name": "python3"
  },
  "language_info": {
   "codemirror_mode": {
    "name": "ipython",
    "version": 3
   },
   "file_extension": ".py",
   "mimetype": "text/x-python",
   "name": "python",
   "nbconvert_exporter": "python",
   "pygments_lexer": "ipython3",
   "version": "3.11.9"
  }
 },
 "nbformat": 4,
 "nbformat_minor": 2
}
