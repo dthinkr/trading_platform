{
 "cells": [
  {
   "cell_type": "markdown",
   "metadata": {},
   "source": [
    "# retrieve run data from mongo"
   ]
  },
  {
   "cell_type": "code",
   "execution_count": 96,
   "metadata": {},
   "outputs": [
    {
     "name": "stdout",
     "output_type": "stream",
     "text": [
      "shape: (13, 4)\n",
      "┌────────────┬─────────────────────────────────┬──────────────────┬─────────────────────────┐\n",
      "│ row_number ┆ order_book                      ┆ incoming         ┆ timestamp               │\n",
      "│ ---        ┆ ---                             ┆ ---              ┆ ---                     │\n",
      "│ u32        ┆ struct[2]                       ┆ struct[3]        ┆ datetime[μs]            │\n",
      "╞════════════╪═════════════════════════════════╪══════════════════╪═════════════════════════╡\n",
      "│ 0          ┆ {[],[]}                         ┆ {null,null,null} ┆ 2024-06-03 23:49:58.871 │\n",
      "│ 1          ┆ {[{2000.0,1.0}],[]}             ┆ {1,2000.0,1}     ┆ 2024-06-03 23:49:58.965 │\n",
      "│ 2          ┆ {[],[]}                         ┆ {1,2000.0,-1}    ┆ 2024-06-03 23:49:59.047 │\n",
      "│ 3          ┆ {[{2001.0,1.0}],[]}             ┆ {1,2001.0,1}     ┆ 2024-06-03 23:49:59.652 │\n",
      "│ 4          ┆ {[{2001.0,1.0}],[{2011.0,1.0}]} ┆ {1,2011.0,-1}    ┆ 2024-06-03 23:50:01.798 │\n",
      "│ …          ┆ …                               ┆ …                ┆ …                       │\n",
      "│ 8          ┆ {[],[]}                         ┆ {1,2000.0,-1}    ┆ 2024-06-03 23:50:04.998 │\n",
      "│ 9          ┆ {[{2000.0,1.0}],[]}             ┆ {1,2000.0,1}     ┆ 2024-06-03 23:50:06.720 │\n",
      "│ 10         ┆ {[],[]}                         ┆ {1,2000.0,-1}    ┆ 2024-06-03 23:50:07.099 │\n",
      "│ 11         ┆ {[{2000.0,1.0}],[]}             ┆ {1,2000.0,1}     ┆ 2024-06-03 23:50:07.444 │\n",
      "│ 12         ┆ {[],[]}                         ┆ {1,2000.0,-1}    ┆ 2024-06-03 23:50:07.720 │\n",
      "└────────────┴─────────────────────────────────┴──────────────────┴─────────────────────────┘\n"
     ]
    }
   ],
   "source": [
    "from pymongo import MongoClient\n",
    "import polars as pl\n",
    "\n",
    "client = MongoClient(\"localhost\", 27017)\n",
    "db = client[\"trader\"]\n",
    "documents = list(db[\"message\"].find({}))\n",
    "run_data = pl.DataFrame(documents)\n",
    "\n",
    "filtered_data = run_data.filter(pl.col(\"trading_session_id\") == run_data['trading_session_id'][-1])\n",
    "\n",
    "preprocessed_data = [{\n",
    "    'order_book': row['content'].get('order_book'),\n",
    "    'incoming': {k: v for k, v in row['content'].get('incoming_message', {}).items() if k != 'trader_id'},\n",
    "    'timestamp': row['timestamp']\n",
    "} for row in filtered_data.to_dicts()]\n",
    "\n",
    "new_order_books = pl.DataFrame(preprocessed_data).sort(\"timestamp\", nulls_last=True).with_row_index(\"row_number\")\n",
    "print(new_order_books)"
   ]
  },
  {
   "cell_type": "code",
   "execution_count": 97,
   "metadata": {},
   "outputs": [
    {
     "data": {
      "text/html": [
       "<div><style>\n",
       ".dataframe > thead > tr,\n",
       ".dataframe > tbody > tr {\n",
       "  text-align: right;\n",
       "  white-space: pre-wrap;\n",
       "}\n",
       "</style>\n",
       "<small>shape: (10, 4)</small><table border=\"1\" class=\"dataframe\"><thead><tr><th>row_number</th><th>order_book</th><th>incoming</th><th>timestamp</th></tr><tr><td>u32</td><td>struct[2]</td><td>struct[3]</td><td>datetime[μs]</td></tr></thead><tbody><tr><td>0</td><td>{[],[]}</td><td>{null,null,null}</td><td>2024-06-03 23:49:58.871</td></tr><tr><td>1</td><td>{[{2000.0,1.0}],[]}</td><td>{1,2000.0,1}</td><td>2024-06-03 23:49:58.965</td></tr><tr><td>2</td><td>{[],[]}</td><td>{1,2000.0,-1}</td><td>2024-06-03 23:49:59.047</td></tr><tr><td>3</td><td>{[{2001.0,1.0}],[]}</td><td>{1,2001.0,1}</td><td>2024-06-03 23:49:59.652</td></tr><tr><td>4</td><td>{[{2001.0,1.0}],[{2011.0,1.0}]}</td><td>{1,2011.0,-1}</td><td>2024-06-03 23:50:01.798</td></tr><tr><td>5</td><td>{[],[{2011.0,1.0}]}</td><td>{-1,2001.0,1}</td><td>2024-06-03 23:50:01.879</td></tr><tr><td>6</td><td>{[{2000.0,1.0}],[{2011.0,1.0}]}</td><td>{1,2000.0,1}</td><td>2024-06-03 23:50:03.048</td></tr><tr><td>7</td><td>{[{2000.0,1.0}],[]}</td><td>{-1,2011.0,-1}</td><td>2024-06-03 23:50:03.131</td></tr><tr><td>8</td><td>{[],[]}</td><td>{1,2000.0,-1}</td><td>2024-06-03 23:50:04.998</td></tr><tr><td>9</td><td>{[{2000.0,1.0}],[]}</td><td>{1,2000.0,1}</td><td>2024-06-03 23:50:06.720</td></tr></tbody></table></div>"
      ],
      "text/plain": [
       "shape: (10, 4)\n",
       "┌────────────┬─────────────────────────────────┬──────────────────┬─────────────────────────┐\n",
       "│ row_number ┆ order_book                      ┆ incoming         ┆ timestamp               │\n",
       "│ ---        ┆ ---                             ┆ ---              ┆ ---                     │\n",
       "│ u32        ┆ struct[2]                       ┆ struct[3]        ┆ datetime[μs]            │\n",
       "╞════════════╪═════════════════════════════════╪══════════════════╪═════════════════════════╡\n",
       "│ 0          ┆ {[],[]}                         ┆ {null,null,null} ┆ 2024-06-03 23:49:58.871 │\n",
       "│ 1          ┆ {[{2000.0,1.0}],[]}             ┆ {1,2000.0,1}     ┆ 2024-06-03 23:49:58.965 │\n",
       "│ 2          ┆ {[],[]}                         ┆ {1,2000.0,-1}    ┆ 2024-06-03 23:49:59.047 │\n",
       "│ 3          ┆ {[{2001.0,1.0}],[]}             ┆ {1,2001.0,1}     ┆ 2024-06-03 23:49:59.652 │\n",
       "│ 4          ┆ {[{2001.0,1.0}],[{2011.0,1.0}]} ┆ {1,2011.0,-1}    ┆ 2024-06-03 23:50:01.798 │\n",
       "│ 5          ┆ {[],[{2011.0,1.0}]}             ┆ {-1,2001.0,1}    ┆ 2024-06-03 23:50:01.879 │\n",
       "│ 6          ┆ {[{2000.0,1.0}],[{2011.0,1.0}]} ┆ {1,2000.0,1}     ┆ 2024-06-03 23:50:03.048 │\n",
       "│ 7          ┆ {[{2000.0,1.0}],[]}             ┆ {-1,2011.0,-1}   ┆ 2024-06-03 23:50:03.131 │\n",
       "│ 8          ┆ {[],[]}                         ┆ {1,2000.0,-1}    ┆ 2024-06-03 23:50:04.998 │\n",
       "│ 9          ┆ {[{2000.0,1.0}],[]}             ┆ {1,2000.0,1}     ┆ 2024-06-03 23:50:06.720 │\n",
       "└────────────┴─────────────────────────────────┴──────────────────┴─────────────────────────┘"
      ]
     },
     "execution_count": 97,
     "metadata": {},
     "output_type": "execute_result"
    }
   ],
   "source": [
    "new_order_books.head(10)"
   ]
  },
  {
   "cell_type": "code",
   "execution_count": 75,
   "metadata": {},
   "outputs": [
    {
     "data": {
      "text/html": [
       "<div><style>\n",
       ".dataframe > thead > tr,\n",
       ".dataframe > tbody > tr {\n",
       "  text-align: right;\n",
       "  white-space: pre-wrap;\n",
       "}\n",
       "</style>\n",
       "<small>shape: (3, 4)</small><table border=\"1\" class=\"dataframe\"><thead><tr><th>_id</th><th>trading_session_id</th><th>content</th><th>timestamp</th></tr><tr><td>object</td><td>str</td><td>struct[10]</td><td>datetime[μs]</td></tr></thead><tbody><tr><td>665e402af71a5defe57a5a80</td><td>&quot;1994acd0-e676-…</td><td>{&quot;Market is open&quot;,&quot;BOOK_UPDATED&quot;,{[],[]},[],[],null,null,null,{null,null,null,null},null}</td><td>2024-06-03 23:14:02.403</td></tr><tr><td>665e402af71a5defe57a5a81</td><td>&quot;1994acd0-e676-…</td><td>{null,&quot;ADD_ORDER&quot;,{[{2000.0,1.0}],[]},[{b&quot;\\xf4\\x0f\\xb6\\xe0\\x88fBV\\x9c\\xe5M\\xfd\\x0d\\xfe\\xd6\\xc2&quot;,&quot;NOISE_ee0c9ce2-4a6a-4d3f-8d45-4db1a5e19ef0&quot;,1,1.0,2000.0,2024-06-03 22:14:02.440}],[],null,null,null,{1,2000.0,1,&quot;NOISE_ee0c9ce2-4a6a-4d3f-8d45-4db1a5e19ef0&quot;},&quot;add_order update processed&quot;}</td><td>2024-06-03 23:14:02.494</td></tr><tr><td>665e402cf71a5defe57a5a82</td><td>&quot;1994acd0-e676-…</td><td>{null,&quot;ADD_ORDER&quot;,{[],[]},[],[],null,null,null,{1,2000.0,-1,&quot;NOISE_ee0c9ce2-4a6a-4d3f-8d45-4db1a5e19ef0&quot;},&quot;add_order update processed&quot;}</td><td>2024-06-03 23:14:04.299</td></tr></tbody></table></div>"
      ],
      "text/plain": [
       "shape: (3, 4)\n",
       "┌───────────────────────────┬───────────────────────────┬───────────────────────────┬──────────────┐\n",
       "│ _id                       ┆ trading_session_id        ┆ content                   ┆ timestamp    │\n",
       "│ ---                       ┆ ---                       ┆ ---                       ┆ ---          │\n",
       "│ object                    ┆ str                       ┆ struct[10]                ┆ datetime[μs] │\n",
       "╞═══════════════════════════╪═══════════════════════════╪═══════════════════════════╪══════════════╡\n",
       "│ 665e402af71a5defe57a5a80  ┆ 1994acd0-e676-4e75-8f2c-5 ┆ {\"Market is               ┆ 2024-06-03   │\n",
       "│                           ┆ c5d6908…                  ┆ open\",\"BOOK_UPDATED\"…     ┆ 23:14:02.403 │\n",
       "│ 665e402af71a5defe57a5a81  ┆ 1994acd0-e676-4e75-8f2c-5 ┆ {null,\"ADD_ORDER\",{[{2000 ┆ 2024-06-03   │\n",
       "│                           ┆ c5d6908…                  ┆ .0,1.0}…                  ┆ 23:14:02.494 │\n",
       "│ 665e402cf71a5defe57a5a82  ┆ 1994acd0-e676-4e75-8f2c-5 ┆ {null,\"ADD_ORDER\",{[],[]} ┆ 2024-06-03   │\n",
       "│                           ┆ c5d6908…                  ┆ ,[],[],…                  ┆ 23:14:04.299 │\n",
       "└───────────────────────────┴───────────────────────────┴───────────────────────────┴──────────────┘"
      ]
     },
     "execution_count": 75,
     "metadata": {},
     "output_type": "execute_result"
    }
   ],
   "source": [
    "filtered_data.head(10)"
   ]
  },
  {
   "cell_type": "code",
   "execution_count": 27,
   "metadata": {},
   "outputs": [
    {
     "data": {
      "text/html": [
       "<div><style>\n",
       ".dataframe > thead > tr,\n",
       ".dataframe > tbody > tr {\n",
       "  text-align: right;\n",
       "  white-space: pre-wrap;\n",
       "}\n",
       "</style>\n",
       "<small>shape: (10, 4)</small><table border=\"1\" class=\"dataframe\"><thead><tr><th>row_number</th><th>order_book</th><th>incoming</th><th>timestamp</th></tr><tr><td>u32</td><td>struct[2]</td><td>struct[4]</td><td>datetime[μs]</td></tr></thead><tbody><tr><td>0</td><td>{[],[]}</td><td>{null,null,null,null}</td><td>2024-06-03 00:48:40.647</td></tr><tr><td>1</td><td>{[{2000.0,1.0}],[]}</td><td>{1,2000,1,null}</td><td>2024-06-03 00:48:40.766</td></tr><tr><td>2</td><td>{[],[]}</td><td>{1,2000,-1,null}</td><td>2024-06-03 00:48:40.867</td></tr><tr><td>3</td><td>{[{2001.0,1.0}],[]}</td><td>{1,2001,1,null}</td><td>2024-06-03 00:48:40.955</td></tr><tr><td>4</td><td>{[{2001.0,1.0}],[{2011.0,1.0}]}</td><td>{1,2011,-1,null}</td><td>2024-06-03 00:48:41.048</td></tr><tr><td>5</td><td>{[{2001.0,1.0}, {2000.0,1.0}],[{2011.0,1.0}]}</td><td>{1,2000,1,null}</td><td>2024-06-03 00:48:41.154</td></tr><tr><td>6</td><td>{[{2000.0,1.0}],[{2011.0,1.0}]}</td><td>{1,2000,-1,null}</td><td>2024-06-03 00:48:41.261</td></tr><tr><td>7</td><td>{[{2000.0,2.0}],[{2011.0,1.0}]}</td><td>{1,2000,1,null}</td><td>2024-06-03 00:48:41.346</td></tr><tr><td>8</td><td>{[{2000.0,1.0}],[{2011.0,1.0}]}</td><td>{1,2000,-1,null}</td><td>2024-06-03 00:48:41.488</td></tr><tr><td>9</td><td>{[{2000.0,2.0}],[{2011.0,1.0}]}</td><td>{1,2000,1,null}</td><td>2024-06-03 00:48:41.571</td></tr></tbody></table></div>"
      ],
      "text/plain": [
       "shape: (10, 4)\n",
       "┌────────────┬───────────────────────────────────┬───────────────────────┬─────────────────────────┐\n",
       "│ row_number ┆ order_book                        ┆ incoming              ┆ timestamp               │\n",
       "│ ---        ┆ ---                               ┆ ---                   ┆ ---                     │\n",
       "│ u32        ┆ struct[2]                         ┆ struct[4]             ┆ datetime[μs]            │\n",
       "╞════════════╪═══════════════════════════════════╪═══════════════════════╪═════════════════════════╡\n",
       "│ 0          ┆ {[],[]}                           ┆ {null,null,null,null} ┆ 2024-06-03 00:48:40.647 │\n",
       "│ 1          ┆ {[{2000.0,1.0}],[]}               ┆ {1,2000,1,null}       ┆ 2024-06-03 00:48:40.766 │\n",
       "│ 2          ┆ {[],[]}                           ┆ {1,2000,-1,null}      ┆ 2024-06-03 00:48:40.867 │\n",
       "│ 3          ┆ {[{2001.0,1.0}],[]}               ┆ {1,2001,1,null}       ┆ 2024-06-03 00:48:40.955 │\n",
       "│ 4          ┆ {[{2001.0,1.0}],[{2011.0,1.0}]}   ┆ {1,2011,-1,null}      ┆ 2024-06-03 00:48:41.048 │\n",
       "│ 5          ┆ {[{2001.0,1.0}, {2000.0,1.0}],[{… ┆ {1,2000,1,null}       ┆ 2024-06-03 00:48:41.154 │\n",
       "│ 6          ┆ {[{2000.0,1.0}],[{2011.0,1.0}]}   ┆ {1,2000,-1,null}      ┆ 2024-06-03 00:48:41.261 │\n",
       "│ 7          ┆ {[{2000.0,2.0}],[{2011.0,1.0}]}   ┆ {1,2000,1,null}       ┆ 2024-06-03 00:48:41.346 │\n",
       "│ 8          ┆ {[{2000.0,1.0}],[{2011.0,1.0}]}   ┆ {1,2000,-1,null}      ┆ 2024-06-03 00:48:41.488 │\n",
       "│ 9          ┆ {[{2000.0,2.0}],[{2011.0,1.0}]}   ┆ {1,2000,1,null}       ┆ 2024-06-03 00:48:41.571 │\n",
       "└────────────┴───────────────────────────────────┴───────────────────────┴─────────────────────────┘"
      ]
     },
     "execution_count": 27,
     "metadata": {},
     "output_type": "execute_result"
    }
   ],
   "source": [
    "new_order_books.head(10)"
   ]
  },
  {
   "cell_type": "code",
   "execution_count": 28,
   "metadata": {},
   "outputs": [
    {
     "name": "stdout",
     "output_type": "stream",
     "text": [
      "DuckDB tables deleted successfully.\n",
      "MongoDB collection deleted successfully.\n"
     ]
    }
   ],
   "source": [
    "from analysis.utilities import delete_all_tables\n",
    "\n",
    "delete_all_tables()"
   ]
  }
 ],
 "metadata": {
  "kernelspec": {
   "display_name": "Python 3",
   "language": "python",
   "name": "python3"
  },
  "language_info": {
   "codemirror_mode": {
    "name": "ipython",
    "version": 3
   },
   "file_extension": ".py",
   "mimetype": "text/x-python",
   "name": "python",
   "nbconvert_exporter": "python",
   "pygments_lexer": "ipython3",
   "version": "3.11.9"
  }
 },
 "nbformat": 4,
 "nbformat_minor": 2
}
