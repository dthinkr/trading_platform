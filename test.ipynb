{
 "cells": [
  {
   "cell_type": "markdown",
   "metadata": {},
   "source": [
    "# retrieve run data from mongo"
   ]
  },
  {
   "cell_type": "code",
   "execution_count": 26,
   "metadata": {},
   "outputs": [
    {
     "name": "stdout",
     "output_type": "stream",
     "text": [
      "shape: (15, 4)\n",
      "┌────────────┬─────────────────────────────────┬───────────────────────┬─────────────────────────┐\n",
      "│ row_number ┆ order_book                      ┆ incoming              ┆ timestamp               │\n",
      "│ ---        ┆ ---                             ┆ ---                   ┆ ---                     │\n",
      "│ u32        ┆ struct[2]                       ┆ struct[4]             ┆ datetime[μs]            │\n",
      "╞════════════╪═════════════════════════════════╪═══════════════════════╪═════════════════════════╡\n",
      "│ 0          ┆ {[],[]}                         ┆ {null,null,null,null} ┆ 2024-06-03 00:48:40.647 │\n",
      "│ 1          ┆ {[{2000.0,1.0}],[]}             ┆ {1,2000,1,null}       ┆ 2024-06-03 00:48:40.766 │\n",
      "│ 2          ┆ {[],[]}                         ┆ {1,2000,-1,null}      ┆ 2024-06-03 00:48:40.867 │\n",
      "│ 3          ┆ {[{2001.0,1.0}],[]}             ┆ {1,2001,1,null}       ┆ 2024-06-03 00:48:40.955 │\n",
      "│ 4          ┆ {[{2001.0,1.0}],[{2011.0,1.0}]} ┆ {1,2011,-1,null}      ┆ 2024-06-03 00:48:41.048 │\n",
      "│ …          ┆ …                               ┆ …                     ┆ …                       │\n",
      "│ 10         ┆ {[{2000.0,1.0}],[{2011.0,1.0}]} ┆ {1,2000,-1,null}      ┆ 2024-06-03 00:48:41.675 │\n",
      "│ 11         ┆ {[{2000.0,2.0}],[{2011.0,1.0}]} ┆ {1,2000,1,null}       ┆ 2024-06-03 00:48:41.769 │\n",
      "│ 12         ┆ {[{2000.0,1.0}],[{2011.0,1.0}]} ┆ {1,2000,-1,null}      ┆ 2024-06-03 00:48:41.877 │\n",
      "│ 13         ┆ {[{2000.0,2.0}],[{2011.0,1.0}]} ┆ {1,2000,1,null}       ┆ 2024-06-03 00:48:48.884 │\n",
      "│ 14         ┆ {[{2000.0,3.0}],[{2011.0,1.0}]} ┆ {1,2000,1,null}       ┆ 2024-06-03 00:48:57.007 │\n",
      "└────────────┴─────────────────────────────────┴───────────────────────┴─────────────────────────┘\n"
     ]
    }
   ],
   "source": [
    "from pymongo import MongoClient\n",
    "import polars as pl\n",
    "\n",
    "client = MongoClient(\"localhost\", 27017)\n",
    "db = client[\"trader\"]\n",
    "documents = list(db[\"message\"].find({}))\n",
    "run_data = pl.DataFrame(documents)\n",
    "\n",
    "filtered_data = run_data.filter(pl.col(\"trading_session_id\") == run_data['trading_session_id'][-1])\n",
    "\n",
    "preprocessed_data = [{\n",
    "    'order_book': row['content'].get('order_book'),\n",
    "    'incoming': {k: v for k, v in row['content'].get('incoming_message', {}).items() if k != 'trader_id'},\n",
    "    'timestamp': row['timestamp']\n",
    "} for row in filtered_data.to_dicts()]\n",
    "\n",
    "new_order_books = pl.DataFrame(preprocessed_data).sort(\"timestamp\", nulls_last=True).with_row_index(\"row_number\")\n",
    "print(new_order_books)"
   ]
  },
  {
   "cell_type": "code",
   "execution_count": 27,
   "metadata": {},
   "outputs": [
    {
     "data": {
      "text/html": [
       "<div><style>\n",
       ".dataframe > thead > tr,\n",
       ".dataframe > tbody > tr {\n",
       "  text-align: right;\n",
       "  white-space: pre-wrap;\n",
       "}\n",
       "</style>\n",
       "<small>shape: (10, 4)</small><table border=\"1\" class=\"dataframe\"><thead><tr><th>row_number</th><th>order_book</th><th>incoming</th><th>timestamp</th></tr><tr><td>u32</td><td>struct[2]</td><td>struct[4]</td><td>datetime[μs]</td></tr></thead><tbody><tr><td>0</td><td>{[],[]}</td><td>{null,null,null,null}</td><td>2024-06-03 00:48:40.647</td></tr><tr><td>1</td><td>{[{2000.0,1.0}],[]}</td><td>{1,2000,1,null}</td><td>2024-06-03 00:48:40.766</td></tr><tr><td>2</td><td>{[],[]}</td><td>{1,2000,-1,null}</td><td>2024-06-03 00:48:40.867</td></tr><tr><td>3</td><td>{[{2001.0,1.0}],[]}</td><td>{1,2001,1,null}</td><td>2024-06-03 00:48:40.955</td></tr><tr><td>4</td><td>{[{2001.0,1.0}],[{2011.0,1.0}]}</td><td>{1,2011,-1,null}</td><td>2024-06-03 00:48:41.048</td></tr><tr><td>5</td><td>{[{2001.0,1.0}, {2000.0,1.0}],[{2011.0,1.0}]}</td><td>{1,2000,1,null}</td><td>2024-06-03 00:48:41.154</td></tr><tr><td>6</td><td>{[{2000.0,1.0}],[{2011.0,1.0}]}</td><td>{1,2000,-1,null}</td><td>2024-06-03 00:48:41.261</td></tr><tr><td>7</td><td>{[{2000.0,2.0}],[{2011.0,1.0}]}</td><td>{1,2000,1,null}</td><td>2024-06-03 00:48:41.346</td></tr><tr><td>8</td><td>{[{2000.0,1.0}],[{2011.0,1.0}]}</td><td>{1,2000,-1,null}</td><td>2024-06-03 00:48:41.488</td></tr><tr><td>9</td><td>{[{2000.0,2.0}],[{2011.0,1.0}]}</td><td>{1,2000,1,null}</td><td>2024-06-03 00:48:41.571</td></tr></tbody></table></div>"
      ],
      "text/plain": [
       "shape: (10, 4)\n",
       "┌────────────┬───────────────────────────────────┬───────────────────────┬─────────────────────────┐\n",
       "│ row_number ┆ order_book                        ┆ incoming              ┆ timestamp               │\n",
       "│ ---        ┆ ---                               ┆ ---                   ┆ ---                     │\n",
       "│ u32        ┆ struct[2]                         ┆ struct[4]             ┆ datetime[μs]            │\n",
       "╞════════════╪═══════════════════════════════════╪═══════════════════════╪═════════════════════════╡\n",
       "│ 0          ┆ {[],[]}                           ┆ {null,null,null,null} ┆ 2024-06-03 00:48:40.647 │\n",
       "│ 1          ┆ {[{2000.0,1.0}],[]}               ┆ {1,2000,1,null}       ┆ 2024-06-03 00:48:40.766 │\n",
       "│ 2          ┆ {[],[]}                           ┆ {1,2000,-1,null}      ┆ 2024-06-03 00:48:40.867 │\n",
       "│ 3          ┆ {[{2001.0,1.0}],[]}               ┆ {1,2001,1,null}       ┆ 2024-06-03 00:48:40.955 │\n",
       "│ 4          ┆ {[{2001.0,1.0}],[{2011.0,1.0}]}   ┆ {1,2011,-1,null}      ┆ 2024-06-03 00:48:41.048 │\n",
       "│ 5          ┆ {[{2001.0,1.0}, {2000.0,1.0}],[{… ┆ {1,2000,1,null}       ┆ 2024-06-03 00:48:41.154 │\n",
       "│ 6          ┆ {[{2000.0,1.0}],[{2011.0,1.0}]}   ┆ {1,2000,-1,null}      ┆ 2024-06-03 00:48:41.261 │\n",
       "│ 7          ┆ {[{2000.0,2.0}],[{2011.0,1.0}]}   ┆ {1,2000,1,null}       ┆ 2024-06-03 00:48:41.346 │\n",
       "│ 8          ┆ {[{2000.0,1.0}],[{2011.0,1.0}]}   ┆ {1,2000,-1,null}      ┆ 2024-06-03 00:48:41.488 │\n",
       "│ 9          ┆ {[{2000.0,2.0}],[{2011.0,1.0}]}   ┆ {1,2000,1,null}       ┆ 2024-06-03 00:48:41.571 │\n",
       "└────────────┴───────────────────────────────────┴───────────────────────┴─────────────────────────┘"
      ]
     },
     "execution_count": 27,
     "metadata": {},
     "output_type": "execute_result"
    }
   ],
   "source": [
    "new_order_books.head(10)"
   ]
  },
  {
   "cell_type": "code",
   "execution_count": 28,
   "metadata": {},
   "outputs": [
    {
     "name": "stdout",
     "output_type": "stream",
     "text": [
      "DuckDB tables deleted successfully.\n",
      "MongoDB collection deleted successfully.\n"
     ]
    }
   ],
   "source": [
    "from analysis.utilities import delete_all_tables\n",
    "\n",
    "delete_all_tables()"
   ]
  }
 ],
 "metadata": {
  "kernelspec": {
   "display_name": "Python 3",
   "language": "python",
   "name": "python3"
  },
  "language_info": {
   "codemirror_mode": {
    "name": "ipython",
    "version": 3
   },
   "file_extension": ".py",
   "mimetype": "text/x-python",
   "name": "python",
   "nbconvert_exporter": "python",
   "pygments_lexer": "ipython3",
   "version": "3.11.9"
  }
 },
 "nbformat": 4,
 "nbformat_minor": 2
}
